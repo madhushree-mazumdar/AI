{
  "cells": [
    {
      "cell_type": "markdown",
      "metadata": {
        "id": "view-in-github",
        "colab_type": "text"
      },
      "source": [
        "<a href=\"https://colab.research.google.com/github/madhushree-mazumdar/AI/blob/main/BankDepositAnalysis/Final_MLProject_BankData_st.ipynb\" target=\"_parent\"><img src=\"https://colab.research.google.com/assets/colab-badge.svg\" alt=\"Open In Colab\"/></a>"
      ]
    },
    {
      "cell_type": "markdown",
      "id": "ca3a7b75-550d-4ef1-8423-4bb137e2531f",
      "metadata": {
        "id": "ca3a7b75-550d-4ef1-8423-4bb137e2531f"
      },
      "source": [
        "# Import Required Libraries"
      ]
    },
    {
      "cell_type": "code",
      "execution_count": null,
      "id": "e2ad90e3-d947-4aa5-a4dd-00cbb6c02237",
      "metadata": {
        "id": "e2ad90e3-d947-4aa5-a4dd-00cbb6c02237"
      },
      "outputs": [],
      "source": [
        "import numpy as np\n",
        "import pandas as pd\n",
        "from scipy import stats\n",
        "import matplotlib.pyplot as plt\n",
        "import seaborn as sns\n",
        "from sklearn.preprocessing import LabelEncoder, OrdinalEncoder, OneHotEncoder, MinMaxScaler, StandardScaler\n",
        "from sklearn.model_selection import train_test_split\n",
        "from sklearn.metrics import accuracy_score, precision_score, confusion_matrix, recall_score, f1_score, classification_report\n"
      ]
    },
    {
      "cell_type": "markdown",
      "id": "5ad92e1f-524a-4290-80ae-b46612efca41",
      "metadata": {
        "id": "5ad92e1f-524a-4290-80ae-b46612efca41"
      },
      "source": [
        "# Dataset Dictionary"
      ]
    },
    {
      "cell_type": "code",
      "execution_count": null,
      "id": "e4775109-0783-4fd7-8bf5-758cd0e7078c",
      "metadata": {
        "id": "e4775109-0783-4fd7-8bf5-758cd0e7078c"
      },
      "outputs": [],
      "source": [
        "# age: age of a person\n",
        "# job: type of job\n",
        "# marital: marital status\n",
        "# education\n",
        "# default: has credit in default? ('no','yes','unknown')\n",
        "# balance: average yearly balance\n",
        "# housing: has housing loan? ('no','yes','unknown')\n",
        "# loan: has personal loanduration ? ('no','yes','unknown')\n",
        "# contact: contact communication type ('cellular','telephone')\n",
        "# day: The day of the month when the contact was last made.\n",
        "# month: The month of the year when the last contact was made.\n",
        "# duration: The duration of the last contact in seconds.\n",
        "# campaign: The number of contacts performed during the campaign for the individual.\n",
        "# pdays: The number of days that passed after the last contact from a previous campaign. A value of -1 indicates that the\n",
        "# individual was not previously contacted.\n",
        "# previous: The number of contacts performed before this campaign for the individual.\n",
        "# poutcome: The outcome of the previous marketing campaign (e.g. success, failure, others)\n",
        "\n",
        "# The aim of the project is to predict if the client will subscribe (yes/no) to a term deposit.\n",
        "# This is a classification model, because the target variable is categorical.\n",
        "# We can apply Logistic, Decision Tree, Random Forest etc for this data set."
      ]
    },
    {
      "cell_type": "markdown",
      "id": "3e428a8e-4776-4184-a3f9-2da7c8c50cb1",
      "metadata": {
        "id": "3e428a8e-4776-4184-a3f9-2da7c8c50cb1"
      },
      "source": [
        "# Load and understand the dataset"
      ]
    },
    {
      "cell_type": "code",
      "source": [
        "from google.colab import drive\n",
        "drive.mount('/content/drive')"
      ],
      "metadata": {
        "id": "rBK_W_h_Km6w"
      },
      "id": "rBK_W_h_Km6w",
      "execution_count": null,
      "outputs": []
    },
    {
      "cell_type": "code",
      "execution_count": null,
      "id": "984e4176-e89c-43e2-b4c7-36a702b220fb",
      "metadata": {
        "id": "984e4176-e89c-43e2-b4c7-36a702b220fb"
      },
      "outputs": [],
      "source": [
        "df = pd.read_csv(r\"C:\\Users\\satti\\Downloads\\Sattikee\\Backup\\Downloads\\Bank Data.csv\")\n",
        "data = pd.read_csv(\"/content/drive/MyDrive/Data_Analytics/BankDepositAnalysis/Bank Data.csv\")\n",
        "data.head()"
      ]
    },
    {
      "cell_type": "code",
      "execution_count": null,
      "id": "0fe67658-e0ce-4716-a6e9-44ee11beb8a6",
      "metadata": {
        "id": "0fe67658-e0ce-4716-a6e9-44ee11beb8a6",
        "outputId": "594532cb-aa1e-4d6f-9c8e-f3a93e4cc740"
      },
      "outputs": [
        {
          "data": {
            "text/plain": [
              "(11162, 17)"
            ]
          },
          "execution_count": 4,
          "metadata": {},
          "output_type": "execute_result"
        }
      ],
      "source": [
        "# Check the dimension of the dataset\n",
        "df.shape"
      ]
    },
    {
      "cell_type": "code",
      "execution_count": null,
      "id": "c9cd65bc-229d-49d1-857f-ed18db1cc316",
      "metadata": {
        "id": "c9cd65bc-229d-49d1-857f-ed18db1cc316",
        "outputId": "e789691d-dedb-44d5-ba39-3a51976622d3"
      },
      "outputs": [
        {
          "data": {
            "text/plain": [
              "Index(['age', 'job', 'marital', 'education', 'default', 'balance', 'housing',\n",
              "       'loan', 'contact', 'day', 'month', 'duration', 'campaign', 'pdays',\n",
              "       'previous', 'poutcome', 'deposit'],\n",
              "      dtype='object')"
            ]
          },
          "execution_count": 5,
          "metadata": {},
          "output_type": "execute_result"
        }
      ],
      "source": [
        "# List the columns of the data\n",
        "df.columns"
      ]
    },
    {
      "cell_type": "code",
      "execution_count": null,
      "id": "20d71a36-c5ba-40a5-a80e-6bc8351085a4",
      "metadata": {
        "id": "20d71a36-c5ba-40a5-a80e-6bc8351085a4",
        "outputId": "abd74ece-29bf-4452-c960-e98fe0f44755"
      },
      "outputs": [
        {
          "data": {
            "text/html": [
              "<div>\n",
              "<style scoped>\n",
              "    .dataframe tbody tr th:only-of-type {\n",
              "        vertical-align: middle;\n",
              "    }\n",
              "\n",
              "    .dataframe tbody tr th {\n",
              "        vertical-align: top;\n",
              "    }\n",
              "\n",
              "    .dataframe thead th {\n",
              "        text-align: right;\n",
              "    }\n",
              "</style>\n",
              "<table border=\"1\" class=\"dataframe\">\n",
              "  <thead>\n",
              "    <tr style=\"text-align: right;\">\n",
              "      <th></th>\n",
              "      <th>age</th>\n",
              "      <th>job</th>\n",
              "      <th>marital</th>\n",
              "      <th>education</th>\n",
              "      <th>default</th>\n",
              "      <th>balance</th>\n",
              "      <th>housing</th>\n",
              "      <th>loan</th>\n",
              "      <th>contact</th>\n",
              "      <th>day</th>\n",
              "      <th>month</th>\n",
              "      <th>duration</th>\n",
              "      <th>campaign</th>\n",
              "      <th>pdays</th>\n",
              "      <th>previous</th>\n",
              "      <th>poutcome</th>\n",
              "      <th>deposit</th>\n",
              "    </tr>\n",
              "  </thead>\n",
              "  <tbody>\n",
              "    <tr>\n",
              "      <th>0</th>\n",
              "      <td>59</td>\n",
              "      <td>admin.</td>\n",
              "      <td>married</td>\n",
              "      <td>secondary</td>\n",
              "      <td>no</td>\n",
              "      <td>2343</td>\n",
              "      <td>yes</td>\n",
              "      <td>no</td>\n",
              "      <td>unknown</td>\n",
              "      <td>5</td>\n",
              "      <td>may</td>\n",
              "      <td>1042</td>\n",
              "      <td>1</td>\n",
              "      <td>-1</td>\n",
              "      <td>0</td>\n",
              "      <td>unknown</td>\n",
              "      <td>yes</td>\n",
              "    </tr>\n",
              "    <tr>\n",
              "      <th>1</th>\n",
              "      <td>56</td>\n",
              "      <td>admin.</td>\n",
              "      <td>married</td>\n",
              "      <td>secondary</td>\n",
              "      <td>no</td>\n",
              "      <td>45</td>\n",
              "      <td>no</td>\n",
              "      <td>no</td>\n",
              "      <td>unknown</td>\n",
              "      <td>5</td>\n",
              "      <td>may</td>\n",
              "      <td>1467</td>\n",
              "      <td>1</td>\n",
              "      <td>-1</td>\n",
              "      <td>0</td>\n",
              "      <td>unknown</td>\n",
              "      <td>yes</td>\n",
              "    </tr>\n",
              "    <tr>\n",
              "      <th>2</th>\n",
              "      <td>41</td>\n",
              "      <td>technician</td>\n",
              "      <td>married</td>\n",
              "      <td>secondary</td>\n",
              "      <td>no</td>\n",
              "      <td>1270</td>\n",
              "      <td>yes</td>\n",
              "      <td>no</td>\n",
              "      <td>unknown</td>\n",
              "      <td>5</td>\n",
              "      <td>may</td>\n",
              "      <td>1389</td>\n",
              "      <td>1</td>\n",
              "      <td>-1</td>\n",
              "      <td>0</td>\n",
              "      <td>unknown</td>\n",
              "      <td>yes</td>\n",
              "    </tr>\n",
              "    <tr>\n",
              "      <th>3</th>\n",
              "      <td>55</td>\n",
              "      <td>services</td>\n",
              "      <td>married</td>\n",
              "      <td>secondary</td>\n",
              "      <td>no</td>\n",
              "      <td>2476</td>\n",
              "      <td>yes</td>\n",
              "      <td>no</td>\n",
              "      <td>unknown</td>\n",
              "      <td>5</td>\n",
              "      <td>may</td>\n",
              "      <td>579</td>\n",
              "      <td>1</td>\n",
              "      <td>-1</td>\n",
              "      <td>0</td>\n",
              "      <td>unknown</td>\n",
              "      <td>yes</td>\n",
              "    </tr>\n",
              "    <tr>\n",
              "      <th>4</th>\n",
              "      <td>54</td>\n",
              "      <td>admin.</td>\n",
              "      <td>married</td>\n",
              "      <td>tertiary</td>\n",
              "      <td>no</td>\n",
              "      <td>184</td>\n",
              "      <td>no</td>\n",
              "      <td>no</td>\n",
              "      <td>unknown</td>\n",
              "      <td>5</td>\n",
              "      <td>may</td>\n",
              "      <td>673</td>\n",
              "      <td>2</td>\n",
              "      <td>-1</td>\n",
              "      <td>0</td>\n",
              "      <td>unknown</td>\n",
              "      <td>yes</td>\n",
              "    </tr>\n",
              "  </tbody>\n",
              "</table>\n",
              "</div>"
            ],
            "text/plain": [
              "   age         job  marital  education default  balance housing loan  contact  \\\n",
              "0   59      admin.  married  secondary      no     2343     yes   no  unknown   \n",
              "1   56      admin.  married  secondary      no       45      no   no  unknown   \n",
              "2   41  technician  married  secondary      no     1270     yes   no  unknown   \n",
              "3   55    services  married  secondary      no     2476     yes   no  unknown   \n",
              "4   54      admin.  married   tertiary      no      184      no   no  unknown   \n",
              "\n",
              "   day month  duration  campaign  pdays  previous poutcome deposit  \n",
              "0    5   may      1042         1     -1         0  unknown     yes  \n",
              "1    5   may      1467         1     -1         0  unknown     yes  \n",
              "2    5   may      1389         1     -1         0  unknown     yes  \n",
              "3    5   may       579         1     -1         0  unknown     yes  \n",
              "4    5   may       673         2     -1         0  unknown     yes  "
            ]
          },
          "execution_count": 6,
          "metadata": {},
          "output_type": "execute_result"
        }
      ],
      "source": [
        "# Check the first few rows of data to study the values and information per column\n",
        "df.head()"
      ]
    },
    {
      "cell_type": "code",
      "execution_count": null,
      "id": "d364def8-39c4-49d7-89ff-1006a84f4276",
      "metadata": {
        "id": "d364def8-39c4-49d7-89ff-1006a84f4276",
        "outputId": "48fb4bd4-20a2-42ff-dacb-7b4e261394d2"
      },
      "outputs": [
        {
          "data": {
            "text/html": [
              "<div>\n",
              "<style scoped>\n",
              "    .dataframe tbody tr th:only-of-type {\n",
              "        vertical-align: middle;\n",
              "    }\n",
              "\n",
              "    .dataframe tbody tr th {\n",
              "        vertical-align: top;\n",
              "    }\n",
              "\n",
              "    .dataframe thead th {\n",
              "        text-align: right;\n",
              "    }\n",
              "</style>\n",
              "<table border=\"1\" class=\"dataframe\">\n",
              "  <thead>\n",
              "    <tr style=\"text-align: right;\">\n",
              "      <th></th>\n",
              "      <th>age</th>\n",
              "      <th>balance</th>\n",
              "      <th>day</th>\n",
              "      <th>duration</th>\n",
              "      <th>campaign</th>\n",
              "      <th>pdays</th>\n",
              "      <th>previous</th>\n",
              "    </tr>\n",
              "  </thead>\n",
              "  <tbody>\n",
              "    <tr>\n",
              "      <th>count</th>\n",
              "      <td>11162.000000</td>\n",
              "      <td>11162.000000</td>\n",
              "      <td>11162.000000</td>\n",
              "      <td>11162.000000</td>\n",
              "      <td>11162.000000</td>\n",
              "      <td>11162.000000</td>\n",
              "      <td>11162.000000</td>\n",
              "    </tr>\n",
              "    <tr>\n",
              "      <th>mean</th>\n",
              "      <td>41.231948</td>\n",
              "      <td>1528.538524</td>\n",
              "      <td>15.658036</td>\n",
              "      <td>371.993818</td>\n",
              "      <td>2.508421</td>\n",
              "      <td>51.330407</td>\n",
              "      <td>0.832557</td>\n",
              "    </tr>\n",
              "    <tr>\n",
              "      <th>std</th>\n",
              "      <td>11.913369</td>\n",
              "      <td>3225.413326</td>\n",
              "      <td>8.420740</td>\n",
              "      <td>347.128386</td>\n",
              "      <td>2.722077</td>\n",
              "      <td>108.758282</td>\n",
              "      <td>2.292007</td>\n",
              "    </tr>\n",
              "    <tr>\n",
              "      <th>min</th>\n",
              "      <td>18.000000</td>\n",
              "      <td>-6847.000000</td>\n",
              "      <td>1.000000</td>\n",
              "      <td>2.000000</td>\n",
              "      <td>1.000000</td>\n",
              "      <td>-1.000000</td>\n",
              "      <td>0.000000</td>\n",
              "    </tr>\n",
              "    <tr>\n",
              "      <th>25%</th>\n",
              "      <td>32.000000</td>\n",
              "      <td>122.000000</td>\n",
              "      <td>8.000000</td>\n",
              "      <td>138.000000</td>\n",
              "      <td>1.000000</td>\n",
              "      <td>-1.000000</td>\n",
              "      <td>0.000000</td>\n",
              "    </tr>\n",
              "    <tr>\n",
              "      <th>50%</th>\n",
              "      <td>39.000000</td>\n",
              "      <td>550.000000</td>\n",
              "      <td>15.000000</td>\n",
              "      <td>255.000000</td>\n",
              "      <td>2.000000</td>\n",
              "      <td>-1.000000</td>\n",
              "      <td>0.000000</td>\n",
              "    </tr>\n",
              "    <tr>\n",
              "      <th>75%</th>\n",
              "      <td>49.000000</td>\n",
              "      <td>1708.000000</td>\n",
              "      <td>22.000000</td>\n",
              "      <td>496.000000</td>\n",
              "      <td>3.000000</td>\n",
              "      <td>20.750000</td>\n",
              "      <td>1.000000</td>\n",
              "    </tr>\n",
              "    <tr>\n",
              "      <th>max</th>\n",
              "      <td>95.000000</td>\n",
              "      <td>81204.000000</td>\n",
              "      <td>31.000000</td>\n",
              "      <td>3881.000000</td>\n",
              "      <td>63.000000</td>\n",
              "      <td>854.000000</td>\n",
              "      <td>58.000000</td>\n",
              "    </tr>\n",
              "  </tbody>\n",
              "</table>\n",
              "</div>"
            ],
            "text/plain": [
              "                age       balance           day      duration      campaign  \\\n",
              "count  11162.000000  11162.000000  11162.000000  11162.000000  11162.000000   \n",
              "mean      41.231948   1528.538524     15.658036    371.993818      2.508421   \n",
              "std       11.913369   3225.413326      8.420740    347.128386      2.722077   \n",
              "min       18.000000  -6847.000000      1.000000      2.000000      1.000000   \n",
              "25%       32.000000    122.000000      8.000000    138.000000      1.000000   \n",
              "50%       39.000000    550.000000     15.000000    255.000000      2.000000   \n",
              "75%       49.000000   1708.000000     22.000000    496.000000      3.000000   \n",
              "max       95.000000  81204.000000     31.000000   3881.000000     63.000000   \n",
              "\n",
              "              pdays      previous  \n",
              "count  11162.000000  11162.000000  \n",
              "mean      51.330407      0.832557  \n",
              "std      108.758282      2.292007  \n",
              "min       -1.000000      0.000000  \n",
              "25%       -1.000000      0.000000  \n",
              "50%       -1.000000      0.000000  \n",
              "75%       20.750000      1.000000  \n",
              "max      854.000000     58.000000  "
            ]
          },
          "execution_count": 7,
          "metadata": {},
          "output_type": "execute_result"
        }
      ],
      "source": [
        "# Get the statistical summary of numerical columns\n",
        "df.describe()"
      ]
    },
    {
      "cell_type": "code",
      "execution_count": null,
      "id": "5e65a005-5b84-4c2a-8e03-085c3983f5e9",
      "metadata": {
        "id": "5e65a005-5b84-4c2a-8e03-085c3983f5e9",
        "outputId": "576b292a-fe68-4621-b058-668048c251d6"
      },
      "outputs": [
        {
          "name": "stdout",
          "output_type": "stream",
          "text": [
            "<class 'pandas.core.frame.DataFrame'>\n",
            "RangeIndex: 11162 entries, 0 to 11161\n",
            "Data columns (total 17 columns):\n",
            " #   Column     Non-Null Count  Dtype \n",
            "---  ------     --------------  ----- \n",
            " 0   age        11162 non-null  int64 \n",
            " 1   job        11162 non-null  object\n",
            " 2   marital    11162 non-null  object\n",
            " 3   education  11162 non-null  object\n",
            " 4   default    11162 non-null  object\n",
            " 5   balance    11162 non-null  int64 \n",
            " 6   housing    11162 non-null  object\n",
            " 7   loan       11162 non-null  object\n",
            " 8   contact    11162 non-null  object\n",
            " 9   day        11162 non-null  int64 \n",
            " 10  month      11162 non-null  object\n",
            " 11  duration   11162 non-null  int64 \n",
            " 12  campaign   11162 non-null  int64 \n",
            " 13  pdays      11162 non-null  int64 \n",
            " 14  previous   11162 non-null  int64 \n",
            " 15  poutcome   11162 non-null  object\n",
            " 16  deposit    11162 non-null  object\n",
            "dtypes: int64(7), object(10)\n",
            "memory usage: 1.4+ MB\n"
          ]
        }
      ],
      "source": [
        "# check the column wise information about non null value counts and data type.\n",
        "df.info()"
      ]
    },
    {
      "cell_type": "code",
      "execution_count": null,
      "id": "e4dbbb82-d1aa-4d14-8401-5273843f608c",
      "metadata": {
        "id": "e4dbbb82-d1aa-4d14-8401-5273843f608c",
        "outputId": "44a6c416-ff7a-40e5-b5e0-e91f095562d7"
      },
      "outputs": [
        {
          "data": {
            "text/plain": [
              "age          0\n",
              "job          0\n",
              "marital      0\n",
              "education    0\n",
              "default      0\n",
              "balance      0\n",
              "housing      0\n",
              "loan         0\n",
              "contact      0\n",
              "day          0\n",
              "month        0\n",
              "duration     0\n",
              "campaign     0\n",
              "pdays        0\n",
              "previous     0\n",
              "poutcome     0\n",
              "deposit      0\n",
              "dtype: int64"
            ]
          },
          "execution_count": 9,
          "metadata": {},
          "output_type": "execute_result"
        }
      ],
      "source": [
        "# Find the null counts in the data\n",
        "df.isnull().sum()"
      ]
    },
    {
      "cell_type": "code",
      "execution_count": null,
      "id": "71b58aa6-8a59-4a7c-a3d5-223fdea85671",
      "metadata": {
        "id": "71b58aa6-8a59-4a7c-a3d5-223fdea85671",
        "outputId": "a1a0e9a4-ff36-406a-ecc8-06f1cbdbc59c"
      },
      "outputs": [
        {
          "data": {
            "text/plain": [
              "0"
            ]
          },
          "execution_count": 10,
          "metadata": {},
          "output_type": "execute_result"
        }
      ],
      "source": [
        "# Check for duplicates\n",
        "df.duplicated().sum()"
      ]
    },
    {
      "cell_type": "code",
      "execution_count": null,
      "id": "b7cfdf25-9a09-456f-b3d0-69ebb6a85345",
      "metadata": {
        "id": "b7cfdf25-9a09-456f-b3d0-69ebb6a85345",
        "outputId": "fe55cc2b-c437-44ff-d0e3-6bd587eb4e6f"
      },
      "outputs": [
        {
          "data": {
            "text/plain": [
              "deposit\n",
              "no     5873\n",
              "yes    5289\n",
              "Name: count, dtype: int64"
            ]
          },
          "execution_count": 11,
          "metadata": {},
          "output_type": "execute_result"
        }
      ],
      "source": [
        "# Check the target column : Identify if numerical or categorical.\n",
        "df['deposit'].value_counts()"
      ]
    },
    {
      "cell_type": "markdown",
      "id": "70a3ef7e-31ff-452a-94b4-193f6e3b007d",
      "metadata": {
        "id": "70a3ef7e-31ff-452a-94b4-193f6e3b007d"
      },
      "source": [
        "# Key Insights about data:"
      ]
    },
    {
      "cell_type": "code",
      "execution_count": null,
      "id": "1abe9732-816d-4a89-9b31-fee951f64883",
      "metadata": {
        "id": "1abe9732-816d-4a89-9b31-fee951f64883"
      },
      "outputs": [],
      "source": [
        "# Number of Rows : 11162\n",
        "# Number of columns : 17\n",
        "# No duplicate values found\n",
        "# No null / missing values found\n",
        "# Target label is : deposit\n",
        "# Target is categorical(yes/no).\n",
        "# Target output distribution is balanced\n",
        "# Type of the probelm  : Classification\n"
      ]
    },
    {
      "cell_type": "code",
      "execution_count": null,
      "id": "361c61a5-deee-4d4b-9bbc-2b938eeb3b15",
      "metadata": {
        "id": "361c61a5-deee-4d4b-9bbc-2b938eeb3b15",
        "outputId": "0ded9099-6c3c-4b04-ca59-6d70f85670f5"
      },
      "outputs": [
        {
          "data": {
            "text/plain": [
              "contact\n",
              "cellular     8042\n",
              "unknown      2346\n",
              "telephone     774\n",
              "Name: count, dtype: int64"
            ]
          },
          "execution_count": 13,
          "metadata": {},
          "output_type": "execute_result"
        }
      ],
      "source": [
        "# check the unique values in column <contact>\n",
        "\n",
        "df['contact'].value_counts()"
      ]
    },
    {
      "cell_type": "code",
      "execution_count": null,
      "id": "c5915977-a784-459c-8866-832cc098f68a",
      "metadata": {
        "id": "c5915977-a784-459c-8866-832cc098f68a"
      },
      "outputs": [],
      "source": [
        "# Contact column is redundant. As medium of contact has no impact on customer's decision towards the Deposit Scheme.\n",
        "# Drop the redundant column\n",
        "\n",
        "df.drop('contact', axis = 1, inplace = True)"
      ]
    },
    {
      "cell_type": "code",
      "execution_count": null,
      "id": "2926a14f-bc44-4d17-88a0-41fd9b44205e",
      "metadata": {
        "id": "2926a14f-bc44-4d17-88a0-41fd9b44205e",
        "outputId": "987d1faf-7d70-406d-cb95-332c309bde7d"
      },
      "outputs": [
        {
          "name": "stdout",
          "output_type": "stream",
          "text": [
            "<class 'pandas.core.frame.DataFrame'>\n",
            "RangeIndex: 11162 entries, 0 to 11161\n",
            "Data columns (total 16 columns):\n",
            " #   Column     Non-Null Count  Dtype \n",
            "---  ------     --------------  ----- \n",
            " 0   age        11162 non-null  int64 \n",
            " 1   job        11162 non-null  object\n",
            " 2   marital    11162 non-null  object\n",
            " 3   education  11162 non-null  object\n",
            " 4   default    11162 non-null  object\n",
            " 5   balance    11162 non-null  int64 \n",
            " 6   housing    11162 non-null  object\n",
            " 7   loan       11162 non-null  object\n",
            " 8   day        11162 non-null  int64 \n",
            " 9   month      11162 non-null  object\n",
            " 10  duration   11162 non-null  int64 \n",
            " 11  campaign   11162 non-null  int64 \n",
            " 12  pdays      11162 non-null  int64 \n",
            " 13  previous   11162 non-null  int64 \n",
            " 14  poutcome   11162 non-null  object\n",
            " 15  deposit    11162 non-null  object\n",
            "dtypes: int64(7), object(9)\n",
            "memory usage: 1.4+ MB\n"
          ]
        }
      ],
      "source": [
        "df.info()"
      ]
    },
    {
      "cell_type": "markdown",
      "id": "146dce48-2893-442b-b636-a301a30ffc69",
      "metadata": {
        "id": "146dce48-2893-442b-b636-a301a30ffc69"
      },
      "source": [
        "# Visualisations"
      ]
    },
    {
      "cell_type": "code",
      "execution_count": null,
      "id": "0f571ba7-c7f4-4928-962e-eae3417384da",
      "metadata": {
        "id": "0f571ba7-c7f4-4928-962e-eae3417384da",
        "outputId": "c81fa221-4604-4006-d51b-0e94998e7cdc"
      },
      "outputs": [
        {
          "data": {
            "text/plain": [
              "['job',\n",
              " 'marital',\n",
              " 'education',\n",
              " 'default',\n",
              " 'housing',\n",
              " 'loan',\n",
              " 'month',\n",
              " 'poutcome']"
            ]
          },
          "execution_count": 16,
          "metadata": {},
          "output_type": "execute_result"
        }
      ],
      "source": [
        "# Get the list of categorical columns' names. Will be helpful for making visuals\n",
        "\n",
        "category_col = df.select_dtypes(include = ['object']).columns.tolist()\n",
        "category_col.remove('deposit')  # remove the target column name\n",
        "category_col"
      ]
    },
    {
      "cell_type": "code",
      "execution_count": null,
      "id": "cc0c03a0-1af3-47c9-9916-e7806ea052ba",
      "metadata": {
        "id": "cc0c03a0-1af3-47c9-9916-e7806ea052ba",
        "outputId": "d503a93e-953b-47cb-c667-4fe819780145"
      },
      "outputs": [
        {
          "data": {
            "text/plain": [
              "['age', 'balance', 'day', 'duration', 'campaign', 'pdays', 'previous']"
            ]
          },
          "execution_count": 17,
          "metadata": {},
          "output_type": "execute_result"
        }
      ],
      "source": [
        "# Get the list of all numerical/continuous columns.\n",
        "\n",
        "cont_col = df.select_dtypes(include = ['int']).columns.tolist()\n",
        "cont_col\n"
      ]
    },
    {
      "cell_type": "code",
      "execution_count": null,
      "id": "b193fa4a-381a-497e-89fc-01c4586f440f",
      "metadata": {
        "id": "b193fa4a-381a-497e-89fc-01c4586f440f",
        "outputId": "c9326be7-6c3b-4dea-f4f1-034bca1342d7"
      },
      "outputs": [
        {
          "name": "stderr",
          "output_type": "stream",
          "text": [
            "C:\\Users\\satti\\anaconda3\\Lib\\site-packages\\seaborn\\_oldcore.py:1498: FutureWarning: is_categorical_dtype is deprecated and will be removed in a future version. Use isinstance(dtype, CategoricalDtype) instead\n",
            "  if pd.api.types.is_categorical_dtype(vector):\n",
            "C:\\Users\\satti\\anaconda3\\Lib\\site-packages\\seaborn\\_oldcore.py:1498: FutureWarning: is_categorical_dtype is deprecated and will be removed in a future version. Use isinstance(dtype, CategoricalDtype) instead\n",
            "  if pd.api.types.is_categorical_dtype(vector):\n",
            "C:\\Users\\satti\\anaconda3\\Lib\\site-packages\\seaborn\\_oldcore.py:1498: FutureWarning: is_categorical_dtype is deprecated and will be removed in a future version. Use isinstance(dtype, CategoricalDtype) instead\n",
            "  if pd.api.types.is_categorical_dtype(vector):\n",
            "C:\\Users\\satti\\anaconda3\\Lib\\site-packages\\seaborn\\_oldcore.py:1498: FutureWarning: is_categorical_dtype is deprecated and will be removed in a future version. Use isinstance(dtype, CategoricalDtype) instead\n",
            "  if pd.api.types.is_categorical_dtype(vector):\n",
            "C:\\Users\\satti\\anaconda3\\Lib\\site-packages\\seaborn\\_oldcore.py:1498: FutureWarning: is_categorical_dtype is deprecated and will be removed in a future version. Use isinstance(dtype, CategoricalDtype) instead\n",
            "  if pd.api.types.is_categorical_dtype(vector):\n",
            "C:\\Users\\satti\\anaconda3\\Lib\\site-packages\\seaborn\\_oldcore.py:1498: FutureWarning: is_categorical_dtype is deprecated and will be removed in a future version. Use isinstance(dtype, CategoricalDtype) instead\n",
            "  if pd.api.types.is_categorical_dtype(vector):\n",
            "C:\\Users\\satti\\anaconda3\\Lib\\site-packages\\seaborn\\_oldcore.py:1498: FutureWarning: is_categorical_dtype is deprecated and will be removed in a future version. Use isinstance(dtype, CategoricalDtype) instead\n",
            "  if pd.api.types.is_categorical_dtype(vector):\n",
            "C:\\Users\\satti\\anaconda3\\Lib\\site-packages\\seaborn\\_oldcore.py:1498: FutureWarning: is_categorical_dtype is deprecated and will be removed in a future version. Use isinstance(dtype, CategoricalDtype) instead\n",
            "  if pd.api.types.is_categorical_dtype(vector):\n",
            "C:\\Users\\satti\\anaconda3\\Lib\\site-packages\\seaborn\\_oldcore.py:1498: FutureWarning: is_categorical_dtype is deprecated and will be removed in a future version. Use isinstance(dtype, CategoricalDtype) instead\n",
            "  if pd.api.types.is_categorical_dtype(vector):\n",
            "C:\\Users\\satti\\anaconda3\\Lib\\site-packages\\seaborn\\_oldcore.py:1498: FutureWarning: is_categorical_dtype is deprecated and will be removed in a future version. Use isinstance(dtype, CategoricalDtype) instead\n",
            "  if pd.api.types.is_categorical_dtype(vector):\n",
            "C:\\Users\\satti\\anaconda3\\Lib\\site-packages\\seaborn\\_oldcore.py:1498: FutureWarning: is_categorical_dtype is deprecated and will be removed in a future version. Use isinstance(dtype, CategoricalDtype) instead\n",
            "  if pd.api.types.is_categorical_dtype(vector):\n",
            "C:\\Users\\satti\\anaconda3\\Lib\\site-packages\\seaborn\\_oldcore.py:1498: FutureWarning: is_categorical_dtype is deprecated and will be removed in a future version. Use isinstance(dtype, CategoricalDtype) instead\n",
            "  if pd.api.types.is_categorical_dtype(vector):\n",
            "C:\\Users\\satti\\anaconda3\\Lib\\site-packages\\seaborn\\_oldcore.py:1498: FutureWarning: is_categorical_dtype is deprecated and will be removed in a future version. Use isinstance(dtype, CategoricalDtype) instead\n",
            "  if pd.api.types.is_categorical_dtype(vector):\n",
            "C:\\Users\\satti\\anaconda3\\Lib\\site-packages\\seaborn\\_oldcore.py:1498: FutureWarning: is_categorical_dtype is deprecated and will be removed in a future version. Use isinstance(dtype, CategoricalDtype) instead\n",
            "  if pd.api.types.is_categorical_dtype(vector):\n",
            "C:\\Users\\satti\\anaconda3\\Lib\\site-packages\\seaborn\\_oldcore.py:1498: FutureWarning: is_categorical_dtype is deprecated and will be removed in a future version. Use isinstance(dtype, CategoricalDtype) instead\n",
            "  if pd.api.types.is_categorical_dtype(vector):\n",
            "C:\\Users\\satti\\anaconda3\\Lib\\site-packages\\seaborn\\_oldcore.py:1498: FutureWarning: is_categorical_dtype is deprecated and will be removed in a future version. Use isinstance(dtype, CategoricalDtype) instead\n",
            "  if pd.api.types.is_categorical_dtype(vector):\n",
            "C:\\Users\\satti\\anaconda3\\Lib\\site-packages\\seaborn\\_oldcore.py:1498: FutureWarning: is_categorical_dtype is deprecated and will be removed in a future version. Use isinstance(dtype, CategoricalDtype) instead\n",
            "  if pd.api.types.is_categorical_dtype(vector):\n",
            "C:\\Users\\satti\\anaconda3\\Lib\\site-packages\\seaborn\\_oldcore.py:1498: FutureWarning: is_categorical_dtype is deprecated and will be removed in a future version. Use isinstance(dtype, CategoricalDtype) instead\n",
            "  if pd.api.types.is_categorical_dtype(vector):\n",
            "C:\\Users\\satti\\anaconda3\\Lib\\site-packages\\seaborn\\_oldcore.py:1498: FutureWarning: is_categorical_dtype is deprecated and will be removed in a future version. Use isinstance(dtype, CategoricalDtype) instead\n",
            "  if pd.api.types.is_categorical_dtype(vector):\n",
            "C:\\Users\\satti\\anaconda3\\Lib\\site-packages\\seaborn\\_oldcore.py:1498: FutureWarning: is_categorical_dtype is deprecated and will be removed in a future version. Use isinstance(dtype, CategoricalDtype) instead\n",
            "  if pd.api.types.is_categorical_dtype(vector):\n",
            "C:\\Users\\satti\\anaconda3\\Lib\\site-packages\\seaborn\\_oldcore.py:1498: FutureWarning: is_categorical_dtype is deprecated and will be removed in a future version. Use isinstance(dtype, CategoricalDtype) instead\n",
            "  if pd.api.types.is_categorical_dtype(vector):\n"
          ]
        },
        {
          "data": {
            "image/png": "[encoded data removed]",
            "text/plain": [
              "<Figure size 1200x1500 with 7 Axes>"
            ]
          },
          "metadata": {},
          "output_type": "display_data"
        }
      ],
      "source": [
        "# Boxplots for Target(categorical) vs continuous columns\n",
        "\n",
        "cont_col\n",
        "plt.figure(figsize= [12,15])\n",
        "n = 1\n",
        "for col in cont_col:\n",
        "    plt.subplot(4,2,n)\n",
        "    sns.boxplot(x = 'deposit', y = col, data = df)\n",
        "    plt.title(\"Deposit vs {}\".format(col))\n",
        "    n = n+1\n",
        "\n",
        "plt.tight_layout()\n",
        "plt.show()"
      ]
    },
    {
      "cell_type": "code",
      "execution_count": null,
      "id": "7b38b6ed-8057-4bd1-a3fc-251ceeb846f6",
      "metadata": {
        "id": "7b38b6ed-8057-4bd1-a3fc-251ceeb846f6"
      },
      "outputs": [],
      "source": [
        "# Key Insights :\n",
        "# 'day' doesnot have much impact on the customer's decision.\n",
        "# The distribution for Yes and No is very much same( marginal difference).\n",
        "# day is redundant w.r.t target.\n",
        "# Drop the redundant column\n",
        "\n",
        "# Duration of the call seems to have an impact on target as we can see with longer duration, the probability of the customer choosing Yes is higher.\n"
      ]
    },
    {
      "cell_type": "code",
      "execution_count": null,
      "id": "20e399ea-cb49-48ce-a47b-23b3507152a4",
      "metadata": {
        "id": "20e399ea-cb49-48ce-a47b-23b3507152a4",
        "outputId": "56778a40-7c1f-4406-be91-cbd8112d93c1"
      },
      "outputs": [
        {
          "data": {
            "text/plain": [
              "Index(['age', 'job', 'marital', 'education', 'default', 'balance', 'housing',\n",
              "       'loan', 'month', 'duration', 'campaign', 'pdays', 'previous',\n",
              "       'poutcome', 'deposit'],\n",
              "      dtype='object')"
            ]
          },
          "execution_count": 19,
          "metadata": {},
          "output_type": "execute_result"
        }
      ],
      "source": [
        "df.drop('day', axis = 1, inplace = True)\n",
        "df.columns"
      ]
    },
    {
      "cell_type": "code",
      "execution_count": null,
      "id": "bb50f811-368b-4779-abf0-2f9df6ac9271",
      "metadata": {
        "id": "bb50f811-368b-4779-abf0-2f9df6ac9271",
        "outputId": "dd94547b-3a8a-4364-a497-a3621eb3ee47"
      },
      "outputs": [
        {
          "data": {
            "text/plain": [
              "['age', 'balance', 'duration', 'campaign', 'pdays', 'previous']"
            ]
          },
          "execution_count": 20,
          "metadata": {},
          "output_type": "execute_result"
        }
      ],
      "source": [
        "# update cont_col list by removing day\n",
        "cont_col.remove('day')\n",
        "cont_col"
      ]
    },
    {
      "cell_type": "code",
      "execution_count": null,
      "id": "58d2555a-8b7b-4a94-9258-a167bfea3269",
      "metadata": {
        "scrolled": true,
        "id": "58d2555a-8b7b-4a94-9258-a167bfea3269",
        "outputId": "cceabb96-cff6-45b6-f8db-66a8e48367ab"
      },
      "outputs": [
        {
          "name": "stderr",
          "output_type": "stream",
          "text": [
            "C:\\Users\\satti\\anaconda3\\Lib\\site-packages\\seaborn\\_oldcore.py:1498: FutureWarning: is_categorical_dtype is deprecated and will be removed in a future version. Use isinstance(dtype, CategoricalDtype) instead\n",
            "  if pd.api.types.is_categorical_dtype(vector):\n",
            "C:\\Users\\satti\\anaconda3\\Lib\\site-packages\\seaborn\\_oldcore.py:1498: FutureWarning: is_categorical_dtype is deprecated and will be removed in a future version. Use isinstance(dtype, CategoricalDtype) instead\n",
            "  if pd.api.types.is_categorical_dtype(vector):\n",
            "C:\\Users\\satti\\anaconda3\\Lib\\site-packages\\seaborn\\_oldcore.py:1498: FutureWarning: is_categorical_dtype is deprecated and will be removed in a future version. Use isinstance(dtype, CategoricalDtype) instead\n",
            "  if pd.api.types.is_categorical_dtype(vector):\n",
            "C:\\Users\\satti\\anaconda3\\Lib\\site-packages\\seaborn\\_oldcore.py:1498: FutureWarning: is_categorical_dtype is deprecated and will be removed in a future version. Use isinstance(dtype, CategoricalDtype) instead\n",
            "  if pd.api.types.is_categorical_dtype(vector):\n",
            "C:\\Users\\satti\\anaconda3\\Lib\\site-packages\\seaborn\\_oldcore.py:1498: FutureWarning: is_categorical_dtype is deprecated and will be removed in a future version. Use isinstance(dtype, CategoricalDtype) instead\n",
            "  if pd.api.types.is_categorical_dtype(vector):\n",
            "C:\\Users\\satti\\anaconda3\\Lib\\site-packages\\seaborn\\_oldcore.py:1498: FutureWarning: is_categorical_dtype is deprecated and will be removed in a future version. Use isinstance(dtype, CategoricalDtype) instead\n",
            "  if pd.api.types.is_categorical_dtype(vector):\n",
            "C:\\Users\\satti\\anaconda3\\Lib\\site-packages\\seaborn\\_oldcore.py:1498: FutureWarning: is_categorical_dtype is deprecated and will be removed in a future version. Use isinstance(dtype, CategoricalDtype) instead\n",
            "  if pd.api.types.is_categorical_dtype(vector):\n",
            "C:\\Users\\satti\\anaconda3\\Lib\\site-packages\\seaborn\\_oldcore.py:1498: FutureWarning: is_categorical_dtype is deprecated and will be removed in a future version. Use isinstance(dtype, CategoricalDtype) instead\n",
            "  if pd.api.types.is_categorical_dtype(vector):\n",
            "C:\\Users\\satti\\anaconda3\\Lib\\site-packages\\seaborn\\_oldcore.py:1498: FutureWarning: is_categorical_dtype is deprecated and will be removed in a future version. Use isinstance(dtype, CategoricalDtype) instead\n",
            "  if pd.api.types.is_categorical_dtype(vector):\n",
            "C:\\Users\\satti\\anaconda3\\Lib\\site-packages\\seaborn\\_oldcore.py:1498: FutureWarning: is_categorical_dtype is deprecated and will be removed in a future version. Use isinstance(dtype, CategoricalDtype) instead\n",
            "  if pd.api.types.is_categorical_dtype(vector):\n",
            "C:\\Users\\satti\\anaconda3\\Lib\\site-packages\\seaborn\\_oldcore.py:1498: FutureWarning: is_categorical_dtype is deprecated and will be removed in a future version. Use isinstance(dtype, CategoricalDtype) instead\n",
            "  if pd.api.types.is_categorical_dtype(vector):\n",
            "C:\\Users\\satti\\anaconda3\\Lib\\site-packages\\seaborn\\_oldcore.py:1498: FutureWarning: is_categorical_dtype is deprecated and will be removed in a future version. Use isinstance(dtype, CategoricalDtype) instead\n",
            "  if pd.api.types.is_categorical_dtype(vector):\n",
            "C:\\Users\\satti\\anaconda3\\Lib\\site-packages\\seaborn\\_oldcore.py:1498: FutureWarning: is_categorical_dtype is deprecated and will be removed in a future version. Use isinstance(dtype, CategoricalDtype) instead\n",
            "  if pd.api.types.is_categorical_dtype(vector):\n",
            "C:\\Users\\satti\\anaconda3\\Lib\\site-packages\\seaborn\\_oldcore.py:1498: FutureWarning: is_categorical_dtype is deprecated and will be removed in a future version. Use isinstance(dtype, CategoricalDtype) instead\n",
            "  if pd.api.types.is_categorical_dtype(vector):\n",
            "C:\\Users\\satti\\anaconda3\\Lib\\site-packages\\seaborn\\_oldcore.py:1498: FutureWarning: is_categorical_dtype is deprecated and will be removed in a future version. Use isinstance(dtype, CategoricalDtype) instead\n",
            "  if pd.api.types.is_categorical_dtype(vector):\n",
            "C:\\Users\\satti\\anaconda3\\Lib\\site-packages\\seaborn\\_oldcore.py:1498: FutureWarning: is_categorical_dtype is deprecated and will be removed in a future version. Use isinstance(dtype, CategoricalDtype) instead\n",
            "  if pd.api.types.is_categorical_dtype(vector):\n",
            "C:\\Users\\satti\\anaconda3\\Lib\\site-packages\\seaborn\\_oldcore.py:1498: FutureWarning: is_categorical_dtype is deprecated and will be removed in a future version. Use isinstance(dtype, CategoricalDtype) instead\n",
            "  if pd.api.types.is_categorical_dtype(vector):\n",
            "C:\\Users\\satti\\anaconda3\\Lib\\site-packages\\seaborn\\_oldcore.py:1498: FutureWarning: is_categorical_dtype is deprecated and will be removed in a future version. Use isinstance(dtype, CategoricalDtype) instead\n",
            "  if pd.api.types.is_categorical_dtype(vector):\n",
            "C:\\Users\\satti\\anaconda3\\Lib\\site-packages\\seaborn\\_oldcore.py:1498: FutureWarning: is_categorical_dtype is deprecated and will be removed in a future version. Use isinstance(dtype, CategoricalDtype) instead\n",
            "  if pd.api.types.is_categorical_dtype(vector):\n",
            "C:\\Users\\satti\\anaconda3\\Lib\\site-packages\\seaborn\\_oldcore.py:1498: FutureWarning: is_categorical_dtype is deprecated and will be removed in a future version. Use isinstance(dtype, CategoricalDtype) instead\n",
            "  if pd.api.types.is_categorical_dtype(vector):\n",
            "C:\\Users\\satti\\anaconda3\\Lib\\site-packages\\seaborn\\_oldcore.py:1498: FutureWarning: is_categorical_dtype is deprecated and will be removed in a future version. Use isinstance(dtype, CategoricalDtype) instead\n",
            "  if pd.api.types.is_categorical_dtype(vector):\n",
            "C:\\Users\\satti\\anaconda3\\Lib\\site-packages\\seaborn\\_oldcore.py:1498: FutureWarning: is_categorical_dtype is deprecated and will be removed in a future version. Use isinstance(dtype, CategoricalDtype) instead\n",
            "  if pd.api.types.is_categorical_dtype(vector):\n",
            "C:\\Users\\satti\\anaconda3\\Lib\\site-packages\\seaborn\\_oldcore.py:1498: FutureWarning: is_categorical_dtype is deprecated and will be removed in a future version. Use isinstance(dtype, CategoricalDtype) instead\n",
            "  if pd.api.types.is_categorical_dtype(vector):\n",
            "C:\\Users\\satti\\anaconda3\\Lib\\site-packages\\seaborn\\_oldcore.py:1498: FutureWarning: is_categorical_dtype is deprecated and will be removed in a future version. Use isinstance(dtype, CategoricalDtype) instead\n",
            "  if pd.api.types.is_categorical_dtype(vector):\n",
            "C:\\Users\\satti\\anaconda3\\Lib\\site-packages\\seaborn\\_oldcore.py:1498: FutureWarning: is_categorical_dtype is deprecated and will be removed in a future version. Use isinstance(dtype, CategoricalDtype) instead\n",
            "  if pd.api.types.is_categorical_dtype(vector):\n",
            "C:\\Users\\satti\\anaconda3\\Lib\\site-packages\\seaborn\\_oldcore.py:1498: FutureWarning: is_categorical_dtype is deprecated and will be removed in a future version. Use isinstance(dtype, CategoricalDtype) instead\n",
            "  if pd.api.types.is_categorical_dtype(vector):\n",
            "C:\\Users\\satti\\anaconda3\\Lib\\site-packages\\seaborn\\_oldcore.py:1498: FutureWarning: is_categorical_dtype is deprecated and will be removed in a future version. Use isinstance(dtype, CategoricalDtype) instead\n",
            "  if pd.api.types.is_categorical_dtype(vector):\n",
            "C:\\Users\\satti\\anaconda3\\Lib\\site-packages\\seaborn\\_oldcore.py:1498: FutureWarning: is_categorical_dtype is deprecated and will be removed in a future version. Use isinstance(dtype, CategoricalDtype) instead\n",
            "  if pd.api.types.is_categorical_dtype(vector):\n",
            "C:\\Users\\satti\\anaconda3\\Lib\\site-packages\\seaborn\\_oldcore.py:1498: FutureWarning: is_categorical_dtype is deprecated and will be removed in a future version. Use isinstance(dtype, CategoricalDtype) instead\n",
            "  if pd.api.types.is_categorical_dtype(vector):\n",
            "C:\\Users\\satti\\anaconda3\\Lib\\site-packages\\seaborn\\_oldcore.py:1498: FutureWarning: is_categorical_dtype is deprecated and will be removed in a future version. Use isinstance(dtype, CategoricalDtype) instead\n",
            "  if pd.api.types.is_categorical_dtype(vector):\n",
            "C:\\Users\\satti\\anaconda3\\Lib\\site-packages\\seaborn\\_oldcore.py:1498: FutureWarning: is_categorical_dtype is deprecated and will be removed in a future version. Use isinstance(dtype, CategoricalDtype) instead\n",
            "  if pd.api.types.is_categorical_dtype(vector):\n",
            "C:\\Users\\satti\\anaconda3\\Lib\\site-packages\\seaborn\\_oldcore.py:1498: FutureWarning: is_categorical_dtype is deprecated and will be removed in a future version. Use isinstance(dtype, CategoricalDtype) instead\n",
            "  if pd.api.types.is_categorical_dtype(vector):\n"
          ]
        },
        {
          "data": {
            "image/png": "[encoded data removed]",
            "text/plain": [
              "<Figure size 1200x1500 with 8 Axes>"
            ]
          },
          "metadata": {},
          "output_type": "display_data"
        }
      ],
      "source": [
        "# Countplots of all categorical columns along with distribution w.r.t target\n",
        "\n",
        "plt.figure(figsize = [12, 15])\n",
        "n = 1\n",
        "for col in category_col:\n",
        "    plt.subplot(4,2,n)\n",
        "    sns.countplot(x = col, hue = 'deposit', data = df)\n",
        "    plt.title(\"Countplot of {} vs deposit\".format(col))\n",
        "    plt.xticks(rotation = 45)\n",
        "    n = n+1\n",
        "\n",
        "plt.tight_layout()\n",
        "plt.show()"
      ]
    },
    {
      "cell_type": "code",
      "execution_count": null,
      "id": "cbc0fffe-8fb1-4053-ad5b-e5880a7b55f2",
      "metadata": {
        "id": "cbc0fffe-8fb1-4053-ad5b-e5880a7b55f2"
      },
      "outputs": [],
      "source": [
        "# Insight :\n",
        "# Month column does have some variations in distribution for yes/no.\n",
        "# May shows the highest count, while dec show the lowest\n",
        "# But looking at the number of categories, keeping this column would not be necessary\n",
        "# as it will increase the dimension of the dataset after OneHotEncoding. And would reduce the processing of machine model.\n",
        "# drop 'month'"
      ]
    },
    {
      "cell_type": "code",
      "execution_count": null,
      "id": "6f4f4b7d-cc35-4551-a88f-63a0ceb92209",
      "metadata": {
        "id": "6f4f4b7d-cc35-4551-a88f-63a0ceb92209"
      },
      "outputs": [],
      "source": [
        "df.drop('month', axis = 1, inplace = True)"
      ]
    },
    {
      "cell_type": "code",
      "execution_count": null,
      "id": "7fa6532e-4ccd-4761-aae1-2934c02afba7",
      "metadata": {
        "id": "7fa6532e-4ccd-4761-aae1-2934c02afba7",
        "outputId": "c877f753-8888-4acd-cda7-63272de62fe2"
      },
      "outputs": [
        {
          "data": {
            "text/plain": [
              "['job', 'marital', 'education', 'default', 'housing', 'loan', 'poutcome']"
            ]
          },
          "execution_count": 24,
          "metadata": {},
          "output_type": "execute_result"
        }
      ],
      "source": [
        "# update category_col list.\n",
        "category_col.remove('month')\n",
        "category_col"
      ]
    },
    {
      "cell_type": "code",
      "execution_count": null,
      "id": "fcb80086-547c-4f3f-9ac1-0ac9e98bab32",
      "metadata": {
        "id": "fcb80086-547c-4f3f-9ac1-0ac9e98bab32",
        "outputId": "e0bd2431-ef68-401d-a0f8-09cdd049730f"
      },
      "outputs": [
        {
          "name": "stderr",
          "output_type": "stream",
          "text": [
            "C:\\Users\\satti\\anaconda3\\Lib\\site-packages\\seaborn\\_oldcore.py:1498: FutureWarning: is_categorical_dtype is deprecated and will be removed in a future version. Use isinstance(dtype, CategoricalDtype) instead\n",
            "  if pd.api.types.is_categorical_dtype(vector):\n",
            "C:\\Users\\satti\\anaconda3\\Lib\\site-packages\\seaborn\\_oldcore.py:1119: FutureWarning: use_inf_as_na option is deprecated and will be removed in a future version. Convert inf values to NaN before operating instead.\n",
            "  with pd.option_context('mode.use_inf_as_na', True):\n"
          ]
        },
        {
          "data": {
            "image/png": "[encoded data removed]",
            "text/plain": [
              "<Figure size 640x480 with 1 Axes>"
            ]
          },
          "metadata": {},
          "output_type": "display_data"
        }
      ],
      "source": [
        "# Check the Balance distribution in the dataset, using a histplot\n",
        "\n",
        "sns.histplot(df['balance'], kde = True)\n",
        "plt.show()"
      ]
    },
    {
      "cell_type": "code",
      "execution_count": null,
      "id": "4acf9bfa-64ba-4ce6-8ad5-442b068d7db9",
      "metadata": {
        "id": "4acf9bfa-64ba-4ce6-8ad5-442b068d7db9"
      },
      "outputs": [],
      "source": [
        "# Insight :\n",
        "\n",
        "# This is a positvely skewed chart. There is low population having higher balance."
      ]
    },
    {
      "cell_type": "code",
      "execution_count": null,
      "id": "6f6b1df6-cc28-4a83-bdc1-f30a5176d625",
      "metadata": {
        "id": "6f6b1df6-cc28-4a83-bdc1-f30a5176d625",
        "outputId": "a81b2cb2-c39a-42a6-aa0f-005e45d2343c"
      },
      "outputs": [
        {
          "name": "stderr",
          "output_type": "stream",
          "text": [
            "C:\\Users\\satti\\anaconda3\\Lib\\site-packages\\seaborn\\_oldcore.py:1498: FutureWarning: is_categorical_dtype is deprecated and will be removed in a future version. Use isinstance(dtype, CategoricalDtype) instead\n",
            "  if pd.api.types.is_categorical_dtype(vector):\n",
            "C:\\Users\\satti\\anaconda3\\Lib\\site-packages\\seaborn\\_oldcore.py:1119: FutureWarning: use_inf_as_na option is deprecated and will be removed in a future version. Convert inf values to NaN before operating instead.\n",
            "  with pd.option_context('mode.use_inf_as_na', True):\n"
          ]
        },
        {
          "data": {
            "image/png": "[encoded data removed]",
            "text/plain": [
              "<Figure size 640x480 with 1 Axes>"
            ]
          },
          "metadata": {},
          "output_type": "display_data"
        }
      ],
      "source": [
        "# Hitogram of Duration\n",
        "sns.histplot(df['duration'], kde = 'True')\n",
        "plt.show()"
      ]
    },
    {
      "cell_type": "code",
      "execution_count": null,
      "id": "6ce085ee-72e8-4b1f-8de3-cf4aebff8b93",
      "metadata": {
        "id": "6ce085ee-72e8-4b1f-8de3-cf4aebff8b93"
      },
      "outputs": [],
      "source": [
        "# Insight :\n",
        "\n",
        "# This is a positvely skewed chart. There is low population having long calls. Majority of population had call duration of upto 500s ec."
      ]
    },
    {
      "cell_type": "markdown",
      "id": "633f89ea-16a6-43a9-a48d-ecf7a068fa6d",
      "metadata": {
        "id": "633f89ea-16a6-43a9-a48d-ecf7a068fa6d"
      },
      "source": [
        "# Numerical columns with Target analysis"
      ]
    },
    {
      "cell_type": "code",
      "execution_count": null,
      "id": "26d6510f-533f-4e5d-8a4d-f705734e643e",
      "metadata": {
        "id": "26d6510f-533f-4e5d-8a4d-f705734e643e",
        "outputId": "49059332-9df6-4d0a-a8fa-c77ce688f473"
      },
      "outputs": [
        {
          "data": {
            "text/html": [
              "<div>\n",
              "<style scoped>\n",
              "    .dataframe tbody tr th:only-of-type {\n",
              "        vertical-align: middle;\n",
              "    }\n",
              "\n",
              "    .dataframe tbody tr th {\n",
              "        vertical-align: top;\n",
              "    }\n",
              "\n",
              "    .dataframe thead th {\n",
              "        text-align: right;\n",
              "    }\n",
              "</style>\n",
              "<table border=\"1\" class=\"dataframe\">\n",
              "  <thead>\n",
              "    <tr style=\"text-align: right;\">\n",
              "      <th></th>\n",
              "      <th>age</th>\n",
              "      <th>balance</th>\n",
              "      <th>duration</th>\n",
              "      <th>campaign</th>\n",
              "      <th>pdays</th>\n",
              "      <th>previous</th>\n",
              "    </tr>\n",
              "  </thead>\n",
              "  <tbody>\n",
              "    <tr>\n",
              "      <th>0</th>\n",
              "      <td>59</td>\n",
              "      <td>2343</td>\n",
              "      <td>1042</td>\n",
              "      <td>1</td>\n",
              "      <td>-1</td>\n",
              "      <td>0</td>\n",
              "    </tr>\n",
              "    <tr>\n",
              "      <th>1</th>\n",
              "      <td>56</td>\n",
              "      <td>45</td>\n",
              "      <td>1467</td>\n",
              "      <td>1</td>\n",
              "      <td>-1</td>\n",
              "      <td>0</td>\n",
              "    </tr>\n",
              "    <tr>\n",
              "      <th>2</th>\n",
              "      <td>41</td>\n",
              "      <td>1270</td>\n",
              "      <td>1389</td>\n",
              "      <td>1</td>\n",
              "      <td>-1</td>\n",
              "      <td>0</td>\n",
              "    </tr>\n",
              "    <tr>\n",
              "      <th>3</th>\n",
              "      <td>55</td>\n",
              "      <td>2476</td>\n",
              "      <td>579</td>\n",
              "      <td>1</td>\n",
              "      <td>-1</td>\n",
              "      <td>0</td>\n",
              "    </tr>\n",
              "    <tr>\n",
              "      <th>4</th>\n",
              "      <td>54</td>\n",
              "      <td>184</td>\n",
              "      <td>673</td>\n",
              "      <td>2</td>\n",
              "      <td>-1</td>\n",
              "      <td>0</td>\n",
              "    </tr>\n",
              "    <tr>\n",
              "      <th>...</th>\n",
              "      <td>...</td>\n",
              "      <td>...</td>\n",
              "      <td>...</td>\n",
              "      <td>...</td>\n",
              "      <td>...</td>\n",
              "      <td>...</td>\n",
              "    </tr>\n",
              "    <tr>\n",
              "      <th>11157</th>\n",
              "      <td>33</td>\n",
              "      <td>1</td>\n",
              "      <td>257</td>\n",
              "      <td>1</td>\n",
              "      <td>-1</td>\n",
              "      <td>0</td>\n",
              "    </tr>\n",
              "    <tr>\n",
              "      <th>11158</th>\n",
              "      <td>39</td>\n",
              "      <td>733</td>\n",
              "      <td>83</td>\n",
              "      <td>4</td>\n",
              "      <td>-1</td>\n",
              "      <td>0</td>\n",
              "    </tr>\n",
              "    <tr>\n",
              "      <th>11159</th>\n",
              "      <td>32</td>\n",
              "      <td>29</td>\n",
              "      <td>156</td>\n",
              "      <td>2</td>\n",
              "      <td>-1</td>\n",
              "      <td>0</td>\n",
              "    </tr>\n",
              "    <tr>\n",
              "      <th>11160</th>\n",
              "      <td>43</td>\n",
              "      <td>0</td>\n",
              "      <td>9</td>\n",
              "      <td>2</td>\n",
              "      <td>172</td>\n",
              "      <td>5</td>\n",
              "    </tr>\n",
              "    <tr>\n",
              "      <th>11161</th>\n",
              "      <td>34</td>\n",
              "      <td>0</td>\n",
              "      <td>628</td>\n",
              "      <td>1</td>\n",
              "      <td>-1</td>\n",
              "      <td>0</td>\n",
              "    </tr>\n",
              "  </tbody>\n",
              "</table>\n",
              "<p>11162 rows × 6 columns</p>\n",
              "</div>"
            ],
            "text/plain": [
              "       age  balance  duration  campaign  pdays  previous\n",
              "0       59     2343      1042         1     -1         0\n",
              "1       56       45      1467         1     -1         0\n",
              "2       41     1270      1389         1     -1         0\n",
              "3       55     2476       579         1     -1         0\n",
              "4       54      184       673         2     -1         0\n",
              "...    ...      ...       ...       ...    ...       ...\n",
              "11157   33        1       257         1     -1         0\n",
              "11158   39      733        83         4     -1         0\n",
              "11159   32       29       156         2     -1         0\n",
              "11160   43        0         9         2    172         5\n",
              "11161   34        0       628         1     -1         0\n",
              "\n",
              "[11162 rows x 6 columns]"
            ]
          },
          "execution_count": 29,
          "metadata": {},
          "output_type": "execute_result"
        }
      ],
      "source": [
        "# Identifying the correlation or patterns in numerical columns w.r.t Target column : Deposit\n",
        "\n",
        "df_cont_col = df[cont_col]\n",
        "df_cont_col"
      ]
    },
    {
      "cell_type": "code",
      "execution_count": null,
      "id": "5cc62b37-657e-4ed0-8f56-a974f6507a56",
      "metadata": {
        "id": "5cc62b37-657e-4ed0-8f56-a974f6507a56",
        "outputId": "98fdf0e6-9047-419c-81e2-4632ce4691d6"
      },
      "outputs": [
        {
          "data": {
            "text/html": [
              "<div>\n",
              "<style scoped>\n",
              "    .dataframe tbody tr th:only-of-type {\n",
              "        vertical-align: middle;\n",
              "    }\n",
              "\n",
              "    .dataframe tbody tr th {\n",
              "        vertical-align: top;\n",
              "    }\n",
              "\n",
              "    .dataframe thead th {\n",
              "        text-align: right;\n",
              "    }\n",
              "</style>\n",
              "<table border=\"1\" class=\"dataframe\">\n",
              "  <thead>\n",
              "    <tr style=\"text-align: right;\">\n",
              "      <th></th>\n",
              "      <th>age</th>\n",
              "      <th>balance</th>\n",
              "      <th>duration</th>\n",
              "      <th>campaign</th>\n",
              "      <th>pdays</th>\n",
              "      <th>previous</th>\n",
              "      <th>deposit</th>\n",
              "    </tr>\n",
              "  </thead>\n",
              "  <tbody>\n",
              "    <tr>\n",
              "      <th>0</th>\n",
              "      <td>59</td>\n",
              "      <td>2343</td>\n",
              "      <td>1042</td>\n",
              "      <td>1</td>\n",
              "      <td>-1</td>\n",
              "      <td>0</td>\n",
              "      <td>yes</td>\n",
              "    </tr>\n",
              "    <tr>\n",
              "      <th>1</th>\n",
              "      <td>56</td>\n",
              "      <td>45</td>\n",
              "      <td>1467</td>\n",
              "      <td>1</td>\n",
              "      <td>-1</td>\n",
              "      <td>0</td>\n",
              "      <td>yes</td>\n",
              "    </tr>\n",
              "    <tr>\n",
              "      <th>2</th>\n",
              "      <td>41</td>\n",
              "      <td>1270</td>\n",
              "      <td>1389</td>\n",
              "      <td>1</td>\n",
              "      <td>-1</td>\n",
              "      <td>0</td>\n",
              "      <td>yes</td>\n",
              "    </tr>\n",
              "    <tr>\n",
              "      <th>3</th>\n",
              "      <td>55</td>\n",
              "      <td>2476</td>\n",
              "      <td>579</td>\n",
              "      <td>1</td>\n",
              "      <td>-1</td>\n",
              "      <td>0</td>\n",
              "      <td>yes</td>\n",
              "    </tr>\n",
              "    <tr>\n",
              "      <th>4</th>\n",
              "      <td>54</td>\n",
              "      <td>184</td>\n",
              "      <td>673</td>\n",
              "      <td>2</td>\n",
              "      <td>-1</td>\n",
              "      <td>0</td>\n",
              "      <td>yes</td>\n",
              "    </tr>\n",
              "    <tr>\n",
              "      <th>...</th>\n",
              "      <td>...</td>\n",
              "      <td>...</td>\n",
              "      <td>...</td>\n",
              "      <td>...</td>\n",
              "      <td>...</td>\n",
              "      <td>...</td>\n",
              "      <td>...</td>\n",
              "    </tr>\n",
              "    <tr>\n",
              "      <th>11157</th>\n",
              "      <td>33</td>\n",
              "      <td>1</td>\n",
              "      <td>257</td>\n",
              "      <td>1</td>\n",
              "      <td>-1</td>\n",
              "      <td>0</td>\n",
              "      <td>no</td>\n",
              "    </tr>\n",
              "    <tr>\n",
              "      <th>11158</th>\n",
              "      <td>39</td>\n",
              "      <td>733</td>\n",
              "      <td>83</td>\n",
              "      <td>4</td>\n",
              "      <td>-1</td>\n",
              "      <td>0</td>\n",
              "      <td>no</td>\n",
              "    </tr>\n",
              "    <tr>\n",
              "      <th>11159</th>\n",
              "      <td>32</td>\n",
              "      <td>29</td>\n",
              "      <td>156</td>\n",
              "      <td>2</td>\n",
              "      <td>-1</td>\n",
              "      <td>0</td>\n",
              "      <td>no</td>\n",
              "    </tr>\n",
              "    <tr>\n",
              "      <th>11160</th>\n",
              "      <td>43</td>\n",
              "      <td>0</td>\n",
              "      <td>9</td>\n",
              "      <td>2</td>\n",
              "      <td>172</td>\n",
              "      <td>5</td>\n",
              "      <td>no</td>\n",
              "    </tr>\n",
              "    <tr>\n",
              "      <th>11161</th>\n",
              "      <td>34</td>\n",
              "      <td>0</td>\n",
              "      <td>628</td>\n",
              "      <td>1</td>\n",
              "      <td>-1</td>\n",
              "      <td>0</td>\n",
              "      <td>no</td>\n",
              "    </tr>\n",
              "  </tbody>\n",
              "</table>\n",
              "<p>11162 rows × 7 columns</p>\n",
              "</div>"
            ],
            "text/plain": [
              "       age  balance  duration  campaign  pdays  previous deposit\n",
              "0       59     2343      1042         1     -1         0     yes\n",
              "1       56       45      1467         1     -1         0     yes\n",
              "2       41     1270      1389         1     -1         0     yes\n",
              "3       55     2476       579         1     -1         0     yes\n",
              "4       54      184       673         2     -1         0     yes\n",
              "...    ...      ...       ...       ...    ...       ...     ...\n",
              "11157   33        1       257         1     -1         0      no\n",
              "11158   39      733        83         4     -1         0      no\n",
              "11159   32       29       156         2     -1         0      no\n",
              "11160   43        0         9         2    172         5      no\n",
              "11161   34        0       628         1     -1         0      no\n",
              "\n",
              "[11162 rows x 7 columns]"
            ]
          },
          "execution_count": 30,
          "metadata": {},
          "output_type": "execute_result"
        }
      ],
      "source": [
        "df_cont_col = df[cont_col + ['deposit']]  # Passing ['deposit'] as a list to concatenate with list :num_col\n",
        "df_cont_col"
      ]
    },
    {
      "cell_type": "code",
      "execution_count": null,
      "id": "09010894-9182-46c6-86ef-a3ac33654fc3",
      "metadata": {
        "id": "09010894-9182-46c6-86ef-a3ac33654fc3",
        "outputId": "d638bf45-75da-42a2-ecda-ab453cf552f9"
      },
      "outputs": [
        {
          "data": {
            "text/html": [
              "<div>\n",
              "<style scoped>\n",
              "    .dataframe tbody tr th:only-of-type {\n",
              "        vertical-align: middle;\n",
              "    }\n",
              "\n",
              "    .dataframe tbody tr th {\n",
              "        vertical-align: top;\n",
              "    }\n",
              "\n",
              "    .dataframe thead th {\n",
              "        text-align: right;\n",
              "    }\n",
              "</style>\n",
              "<table border=\"1\" class=\"dataframe\">\n",
              "  <thead>\n",
              "    <tr style=\"text-align: right;\">\n",
              "      <th></th>\n",
              "      <th>age</th>\n",
              "      <th>balance</th>\n",
              "      <th>duration</th>\n",
              "      <th>campaign</th>\n",
              "      <th>pdays</th>\n",
              "      <th>previous</th>\n",
              "    </tr>\n",
              "    <tr>\n",
              "      <th>deposit</th>\n",
              "      <th></th>\n",
              "      <th></th>\n",
              "      <th></th>\n",
              "      <th></th>\n",
              "      <th></th>\n",
              "      <th></th>\n",
              "    </tr>\n",
              "  </thead>\n",
              "  <tbody>\n",
              "    <tr>\n",
              "      <th>no</th>\n",
              "      <td>39.0</td>\n",
              "      <td>414.0</td>\n",
              "      <td>163.0</td>\n",
              "      <td>2.0</td>\n",
              "      <td>-1.0</td>\n",
              "      <td>0.0</td>\n",
              "    </tr>\n",
              "    <tr>\n",
              "      <th>yes</th>\n",
              "      <td>38.0</td>\n",
              "      <td>733.0</td>\n",
              "      <td>426.0</td>\n",
              "      <td>2.0</td>\n",
              "      <td>-1.0</td>\n",
              "      <td>0.0</td>\n",
              "    </tr>\n",
              "  </tbody>\n",
              "</table>\n",
              "</div>"
            ],
            "text/plain": [
              "          age  balance  duration  campaign  pdays  previous\n",
              "deposit                                                    \n",
              "no       39.0    414.0     163.0       2.0   -1.0       0.0\n",
              "yes      38.0    733.0     426.0       2.0   -1.0       0.0"
            ]
          },
          "execution_count": 31,
          "metadata": {},
          "output_type": "execute_result"
        }
      ],
      "source": [
        "# Analyse the groupings of Target outputs : Yes and No\n",
        "# Taking median instead of mean due to the presence of outliers.\n",
        "\n",
        "df_cont_col.groupby('deposit').median()"
      ]
    },
    {
      "cell_type": "code",
      "execution_count": null,
      "id": "eccc7d99-2742-4a32-a947-0db7747f5220",
      "metadata": {
        "id": "eccc7d99-2742-4a32-a947-0db7747f5220"
      },
      "outputs": [],
      "source": [
        "# Insights :\n",
        "\n",
        "# balance and duration columns shows strong impact on deposit output."
      ]
    },
    {
      "cell_type": "markdown",
      "id": "bb770725-d93a-4436-82f8-29fb9fb1be1c",
      "metadata": {
        "id": "bb770725-d93a-4436-82f8-29fb9fb1be1c"
      },
      "source": [
        "# Categorical columns w.r.t Target"
      ]
    },
    {
      "cell_type": "markdown",
      "id": "d58e1461-fe13-4d0f-99f1-8af76a0066e2",
      "metadata": {
        "id": "d58e1461-fe13-4d0f-99f1-8af76a0066e2"
      },
      "source": [
        "## Data cleaning for Job Categories. Reducing the number of categories by groupings"
      ]
    },
    {
      "cell_type": "code",
      "execution_count": null,
      "id": "6f3e72b4-1279-4c84-8804-0a37c52a08aa",
      "metadata": {
        "id": "6f3e72b4-1279-4c84-8804-0a37c52a08aa"
      },
      "outputs": [],
      "source": [
        "# Job vs deposit.\n",
        "# Find out the number of 'yes' deposit per category of Job.\n"
      ]
    },
    {
      "cell_type": "code",
      "execution_count": null,
      "id": "61511243-f804-4514-a99e-cb8f51588a98",
      "metadata": {
        "id": "61511243-f804-4514-a99e-cb8f51588a98",
        "outputId": "697e8721-b819-4747-a823-a5969cda507b"
      },
      "outputs": [
        {
          "data": {
            "text/plain": [
              "job\n",
              "management       2566\n",
              "blue-collar      1944\n",
              "technician       1823\n",
              "admin.           1334\n",
              "services          923\n",
              "retired           778\n",
              "self-employed     405\n",
              "student           360\n",
              "unemployed        357\n",
              "entrepreneur      328\n",
              "housemaid         274\n",
              "unknown            70\n",
              "Name: count, dtype: int64"
            ]
          },
          "execution_count": 34,
          "metadata": {},
          "output_type": "execute_result"
        }
      ],
      "source": [
        "# Find the individual categories of jobs in the dataset, along with number of occurrences.\n",
        "\n",
        "df['job'].value_counts()\n"
      ]
    },
    {
      "cell_type": "code",
      "execution_count": null,
      "id": "33f058a1-0851-4d2c-a43d-bd0b5298421b",
      "metadata": {
        "id": "33f058a1-0851-4d2c-a43d-bd0b5298421b"
      },
      "outputs": [],
      "source": [
        "# Data cleaning step . Correct the typo/font for admin role\n",
        "\n",
        "df['job'] = df['job'].replace('admin.', 'admin')"
      ]
    },
    {
      "cell_type": "code",
      "execution_count": null,
      "id": "b327697c-0e87-48e5-ae08-64bc820123a8",
      "metadata": {
        "id": "b327697c-0e87-48e5-ae08-64bc820123a8",
        "outputId": "a64aae37-1e66-4246-a801-8d9e1ef1262b"
      },
      "outputs": [
        {
          "data": {
            "text/plain": [
              "['admin',\n",
              " 'technician',\n",
              " 'services',\n",
              " 'management',\n",
              " 'retired',\n",
              " 'blue-collar',\n",
              " 'unemployed',\n",
              " 'entrepreneur',\n",
              " 'housemaid',\n",
              " 'unknown',\n",
              " 'self-employed',\n",
              " 'student']"
            ]
          },
          "execution_count": 36,
          "metadata": {},
          "output_type": "execute_result"
        }
      ],
      "source": [
        "# Make a list of all the jobs.\n",
        "# Though this step isn't necessary.\n",
        "# In 'for' loops, arrays can be passed because Numpy arrays behave like list in for loops.\n",
        "\n",
        "\n",
        "job_list = df['job'].unique().tolist()\n",
        "job_list"
      ]
    },
    {
      "cell_type": "code",
      "execution_count": null,
      "id": "12941f61-6774-4b4a-b143-80c60794bb4d",
      "metadata": {
        "id": "12941f61-6774-4b4a-b143-80c60794bb4d",
        "outputId": "5a63782a-ca03-44db-9e47-6872b42a8dad"
      },
      "outputs": [
        {
          "name": "stdout",
          "output_type": "stream",
          "text": [
            "admin                -:-        631\n",
            "technician           -:-        840\n",
            "services             -:-        369\n",
            "management           -:-       1301\n",
            "retired              -:-        516\n",
            "blue-collar          -:-        708\n",
            "unemployed           -:-        202\n",
            "entrepreneur         -:-        123\n",
            "housemaid            -:-        109\n",
            "unknown              -:-         34\n",
            "self-employed        -:-        187\n",
            "student              -:-        269\n"
          ]
        }
      ],
      "source": [
        "# Using the for loop, filter the rows for each job category and condition of deposit 'yes'.\n",
        "\n",
        "for j in job_list:\n",
        "    print(\"{:20} -:- {:10}\".format(j, len(df[(df.deposit == 'yes') & (df.job == j)])))\n"
      ]
    },
    {
      "cell_type": "code",
      "execution_count": null,
      "id": "66de8abb-eb94-4c4b-83aa-ce0475c99049",
      "metadata": {
        "id": "66de8abb-eb94-4c4b-83aa-ce0475c99049",
        "outputId": "0a587bae-f0e4-4fa2-cf1a-0d79d082f207"
      },
      "outputs": [
        {
          "name": "stdout",
          "output_type": "stream",
          "text": [
            "admin                -:-          631 --:--       5.65%\n",
            "technician           -:-          840 --:--       7.53%\n",
            "services             -:-          369 --:--       3.31%\n",
            "management           -:-         1301 --:--      11.66%\n",
            "retired              -:-          516 --:--       4.62%\n",
            "blue-collar          -:-          708 --:--       6.34%\n",
            "unemployed           -:-          202 --:--       1.81%\n",
            "entrepreneur         -:-          123 --:--       1.10%\n",
            "housemaid            -:-          109 --:--       0.98%\n",
            "unknown              -:-           34 --:--       0.30%\n",
            "self-employed        -:-          187 --:--       1.68%\n",
            "student              -:-          269 --:--       2.41%\n"
          ]
        }
      ],
      "source": [
        "# Modify the for loop to display the job category, its count as well as percentage distibution\n",
        "\n",
        "for j in job_list:\n",
        "\n",
        "    # find the total rows in df. To be used for percentage calculation.\n",
        "    total_df_counts = len(df)\n",
        "\n",
        "    # filter the records with deposit (yes) in each job category( for each loop iteration)\n",
        "    job_yes_count = len(df[(df.deposit == 'yes') & (df.job == j)])\n",
        "\n",
        "    # percentage calculation\n",
        "    job_yes_percent = (job_yes_count/total_df_counts) * 100\n",
        "\n",
        "    #print the job category with count as well as percentage distribution\n",
        "    print(\"{:20} -:- {:12} --:-- {:10.2f}%\".format(j, job_yes_count, job_yes_percent))\n",
        "\n",
        ""
      ]
    },
    {
      "cell_type": "code",
      "execution_count": null,
      "id": "b8ad1025-0466-4f6c-970c-dab99bfd751b",
      "metadata": {
        "id": "b8ad1025-0466-4f6c-970c-dab99bfd751b"
      },
      "outputs": [],
      "source": [
        "# Since the job categories are too many.\n",
        "# If we simply continue for encoding(OneHotEncoding), this would increase the dimension of the dataframe too much.\n",
        "# Hence need to do some data cleaning and manipulation on this column by combining certain jobs into one categories.\n",
        "# Following combinations can be done :\n",
        "# student + unknown + housemaid + unemployed  = low-income\n",
        "# technician + services + admin   =   pink-collar\n",
        "# self-employed + entrepreneur = small-business\n",
        "\n",
        "df['job']  = df['job'].replace(['student', 'unknown', 'housemaid', 'unemployed'], 'low-income')\n",
        "df['job'] = df['job'].replace(['technician', 'services', 'admin'],  'pink-collar')\n",
        "df['job'] = df['job'].replace(['self-employed', 'entrepreneur'], 'small-business')"
      ]
    },
    {
      "cell_type": "code",
      "execution_count": null,
      "id": "30444bf9-e1af-4c9a-a234-f890b11cfceb",
      "metadata": {
        "id": "30444bf9-e1af-4c9a-a234-f890b11cfceb",
        "outputId": "07729405-3c9c-44a9-ab0c-8796646a03bb"
      },
      "outputs": [
        {
          "data": {
            "text/plain": [
              "job\n",
              "pink-collar       4080\n",
              "management        2566\n",
              "blue-collar       1944\n",
              "low-income        1061\n",
              "retired            778\n",
              "small-business     733\n",
              "Name: count, dtype: int64"
            ]
          },
          "execution_count": 40,
          "metadata": {},
          "output_type": "execute_result"
        }
      ],
      "source": [
        "df.job.value_counts()"
      ]
    },
    {
      "cell_type": "markdown",
      "id": "4c0a0b16-55c8-4494-bf9b-0e518d6b8010",
      "metadata": {
        "id": "4c0a0b16-55c8-4494-bf9b-0e518d6b8010"
      },
      "source": [
        "## Data cleaning for education Categories. Reducing the number of categories by grouping unknown into tertiary."
      ]
    },
    {
      "cell_type": "code",
      "execution_count": null,
      "id": "7bf6ce4b-1c7d-4f79-9fcb-b573e8b754d2",
      "metadata": {
        "id": "7bf6ce4b-1c7d-4f79-9fcb-b573e8b754d2",
        "outputId": "be3b40d9-b853-487d-fd25-f5f459b92c5f"
      },
      "outputs": [
        {
          "data": {
            "text/plain": [
              "education\n",
              "secondary    5476\n",
              "tertiary     3689\n",
              "primary      1500\n",
              "unknown       497\n",
              "Name: count, dtype: int64"
            ]
          },
          "execution_count": 41,
          "metadata": {},
          "output_type": "execute_result"
        }
      ],
      "source": [
        "df.education.value_counts()"
      ]
    },
    {
      "cell_type": "code",
      "execution_count": null,
      "id": "a8b6d0d9-c6e9-4177-aaff-7136d9ee88e0",
      "metadata": {
        "id": "a8b6d0d9-c6e9-4177-aaff-7136d9ee88e0"
      },
      "outputs": [],
      "source": [
        "df.education = df.education.replace(['tertiary', 'unknown'], 'tertiary')"
      ]
    },
    {
      "cell_type": "markdown",
      "id": "8f8334af-e75e-47d9-9f76-c6833595cfca",
      "metadata": {
        "id": "8f8334af-e75e-47d9-9f76-c6833595cfca"
      },
      "source": [
        "## Data cleaning for poutcome Categories. Reducing the number of categories by grouping"
      ]
    },
    {
      "cell_type": "code",
      "execution_count": null,
      "id": "4c9c2c9e-5e34-43f0-ba84-65da186eafd4",
      "metadata": {
        "id": "4c9c2c9e-5e34-43f0-ba84-65da186eafd4",
        "outputId": "b53ed847-1c6b-4e6b-8a05-94990a20cffd"
      },
      "outputs": [
        {
          "data": {
            "text/plain": [
              "poutcome\n",
              "unknown    8326\n",
              "failure    1228\n",
              "success    1071\n",
              "other       537\n",
              "Name: count, dtype: int64"
            ]
          },
          "execution_count": 43,
          "metadata": {},
          "output_type": "execute_result"
        }
      ],
      "source": [
        "df['poutcome'].value_counts()"
      ]
    },
    {
      "cell_type": "code",
      "execution_count": null,
      "id": "a5c758e0-85d7-4f44-a8fa-8605b864ac7a",
      "metadata": {
        "id": "a5c758e0-85d7-4f44-a8fa-8605b864ac7a"
      },
      "outputs": [],
      "source": [
        "# Combine unknown and other as other\n",
        "df['poutcome'] = df['poutcome'].replace('unknown' , 'other')"
      ]
    },
    {
      "cell_type": "code",
      "execution_count": null,
      "id": "921d3a4f-488b-4dd9-bb85-2b0744bd9230",
      "metadata": {
        "scrolled": true,
        "id": "921d3a4f-488b-4dd9-bb85-2b0744bd9230",
        "outputId": "81c8454c-210a-49ed-99c7-04596c09f76f"
      },
      "outputs": [
        {
          "name": "stdout",
          "output_type": "stream",
          "text": [
            "Categories in\n",
            "job\n",
            "pink-collar       4080\n",
            "management        2566\n",
            "blue-collar       1944\n",
            "low-income        1061\n",
            "retired            778\n",
            "small-business     733\n",
            "Name: count, dtype: int64\n",
            "  \n",
            "Categories in\n",
            "marital\n",
            "married     6351\n",
            "single      3518\n",
            "divorced    1293\n",
            "Name: count, dtype: int64\n",
            "  \n",
            "Categories in\n",
            "education\n",
            "secondary    5476\n",
            "tertiary     4186\n",
            "primary      1500\n",
            "Name: count, dtype: int64\n",
            "  \n",
            "Categories in\n",
            "default\n",
            "no     10994\n",
            "yes      168\n",
            "Name: count, dtype: int64\n",
            "  \n",
            "Categories in\n",
            "housing\n",
            "no     5881\n",
            "yes    5281\n",
            "Name: count, dtype: int64\n",
            "  \n",
            "Categories in\n",
            "loan\n",
            "no     9702\n",
            "yes    1460\n",
            "Name: count, dtype: int64\n",
            "  \n",
            "Categories in\n",
            "poutcome\n",
            "other      8863\n",
            "failure    1228\n",
            "success    1071\n",
            "Name: count, dtype: int64\n",
            "  \n"
          ]
        }
      ],
      "source": [
        "# Let's finally check the individual categories in each categorical column using a for loop implementation\n",
        "n = 1\n",
        "for col in category_col:\n",
        "    print(\"Categories in\")\n",
        "    print(df[col].value_counts())\n",
        "    print(\"  \")\n",
        "\n",
        ""
      ]
    },
    {
      "cell_type": "markdown",
      "id": "a7e0be62-24d0-4361-bbe9-b0a073125ef6",
      "metadata": {
        "id": "a7e0be62-24d0-4361-bbe9-b0a073125ef6"
      },
      "source": [
        "# Data Pre-processing"
      ]
    },
    {
      "cell_type": "markdown",
      "id": "fe95e608-edf8-42ff-a06a-d0a7d7a6378b",
      "metadata": {
        "id": "fe95e608-edf8-42ff-a06a-d0a7d7a6378b"
      },
      "source": [
        "## Encoding to convert categorical data into numerical"
      ]
    },
    {
      "cell_type": "code",
      "execution_count": null,
      "id": "97f229fa-3b2c-4bfa-b786-66f0a4880bd8",
      "metadata": {
        "id": "97f229fa-3b2c-4bfa-b786-66f0a4880bd8",
        "outputId": "2cb12a25-c1dc-4da8-ed21-19f360457fb3"
      },
      "outputs": [
        {
          "data": {
            "text/plain": [
              "['job', 'marital', 'education', 'default', 'housing', 'loan', 'poutcome']"
            ]
          },
          "execution_count": 46,
          "metadata": {},
          "output_type": "execute_result"
        }
      ],
      "source": [
        "category_col"
      ]
    },
    {
      "cell_type": "code",
      "execution_count": null,
      "id": "2ef98315-4ed9-4511-a130-bc8a15b6aa74",
      "metadata": {
        "id": "2ef98315-4ed9-4511-a130-bc8a15b6aa74"
      },
      "outputs": [],
      "source": [
        "# OneHotEncoding --job\n",
        "# Label encoding -- marital , 'default', 'housing', 'loan', poutcome, deposit\n",
        "# Ordinal encoding -- education"
      ]
    },
    {
      "cell_type": "code",
      "execution_count": null,
      "id": "8bd5b88e-6a05-478e-a26d-ceda51f5bce0",
      "metadata": {
        "id": "8bd5b88e-6a05-478e-a26d-ceda51f5bce0"
      },
      "outputs": [],
      "source": [
        "df = pd.get_dummies(df, columns = ['job'])"
      ]
    },
    {
      "cell_type": "code",
      "execution_count": null,
      "id": "1b14ff23-4571-4430-bf4e-87bf958f648e",
      "metadata": {
        "id": "1b14ff23-4571-4430-bf4e-87bf958f648e",
        "outputId": "00007732-1aea-40cd-c585-8870ed377b93"
      },
      "outputs": [
        {
          "data": {
            "text/html": [
              "<div>\n",
              "<style scoped>\n",
              "    .dataframe tbody tr th:only-of-type {\n",
              "        vertical-align: middle;\n",
              "    }\n",
              "\n",
              "    .dataframe tbody tr th {\n",
              "        vertical-align: top;\n",
              "    }\n",
              "\n",
              "    .dataframe thead th {\n",
              "        text-align: right;\n",
              "    }\n",
              "</style>\n",
              "<table border=\"1\" class=\"dataframe\">\n",
              "  <thead>\n",
              "    <tr style=\"text-align: right;\">\n",
              "      <th></th>\n",
              "      <th>age</th>\n",
              "      <th>marital</th>\n",
              "      <th>education</th>\n",
              "      <th>default</th>\n",
              "      <th>balance</th>\n",
              "      <th>housing</th>\n",
              "      <th>loan</th>\n",
              "      <th>duration</th>\n",
              "      <th>campaign</th>\n",
              "      <th>pdays</th>\n",
              "      <th>previous</th>\n",
              "      <th>poutcome</th>\n",
              "      <th>deposit</th>\n",
              "      <th>job_blue-collar</th>\n",
              "      <th>job_low-income</th>\n",
              "      <th>job_management</th>\n",
              "      <th>job_pink-collar</th>\n",
              "      <th>job_retired</th>\n",
              "      <th>job_small-business</th>\n",
              "    </tr>\n",
              "  </thead>\n",
              "  <tbody>\n",
              "    <tr>\n",
              "      <th>0</th>\n",
              "      <td>59</td>\n",
              "      <td>married</td>\n",
              "      <td>secondary</td>\n",
              "      <td>no</td>\n",
              "      <td>2343</td>\n",
              "      <td>yes</td>\n",
              "      <td>no</td>\n",
              "      <td>1042</td>\n",
              "      <td>1</td>\n",
              "      <td>-1</td>\n",
              "      <td>0</td>\n",
              "      <td>other</td>\n",
              "      <td>yes</td>\n",
              "      <td>False</td>\n",
              "      <td>False</td>\n",
              "      <td>False</td>\n",
              "      <td>True</td>\n",
              "      <td>False</td>\n",
              "      <td>False</td>\n",
              "    </tr>\n",
              "    <tr>\n",
              "      <th>1</th>\n",
              "      <td>56</td>\n",
              "      <td>married</td>\n",
              "      <td>secondary</td>\n",
              "      <td>no</td>\n",
              "      <td>45</td>\n",
              "      <td>no</td>\n",
              "      <td>no</td>\n",
              "      <td>1467</td>\n",
              "      <td>1</td>\n",
              "      <td>-1</td>\n",
              "      <td>0</td>\n",
              "      <td>other</td>\n",
              "      <td>yes</td>\n",
              "      <td>False</td>\n",
              "      <td>False</td>\n",
              "      <td>False</td>\n",
              "      <td>True</td>\n",
              "      <td>False</td>\n",
              "      <td>False</td>\n",
              "    </tr>\n",
              "    <tr>\n",
              "      <th>2</th>\n",
              "      <td>41</td>\n",
              "      <td>married</td>\n",
              "      <td>secondary</td>\n",
              "      <td>no</td>\n",
              "      <td>1270</td>\n",
              "      <td>yes</td>\n",
              "      <td>no</td>\n",
              "      <td>1389</td>\n",
              "      <td>1</td>\n",
              "      <td>-1</td>\n",
              "      <td>0</td>\n",
              "      <td>other</td>\n",
              "      <td>yes</td>\n",
              "      <td>False</td>\n",
              "      <td>False</td>\n",
              "      <td>False</td>\n",
              "      <td>True</td>\n",
              "      <td>False</td>\n",
              "      <td>False</td>\n",
              "    </tr>\n",
              "    <tr>\n",
              "      <th>3</th>\n",
              "      <td>55</td>\n",
              "      <td>married</td>\n",
              "      <td>secondary</td>\n",
              "      <td>no</td>\n",
              "      <td>2476</td>\n",
              "      <td>yes</td>\n",
              "      <td>no</td>\n",
              "      <td>579</td>\n",
              "      <td>1</td>\n",
              "      <td>-1</td>\n",
              "      <td>0</td>\n",
              "      <td>other</td>\n",
              "      <td>yes</td>\n",
              "      <td>False</td>\n",
              "      <td>False</td>\n",
              "      <td>False</td>\n",
              "      <td>True</td>\n",
              "      <td>False</td>\n",
              "      <td>False</td>\n",
              "    </tr>\n",
              "    <tr>\n",
              "      <th>4</th>\n",
              "      <td>54</td>\n",
              "      <td>married</td>\n",
              "      <td>tertiary</td>\n",
              "      <td>no</td>\n",
              "      <td>184</td>\n",
              "      <td>no</td>\n",
              "      <td>no</td>\n",
              "      <td>673</td>\n",
              "      <td>2</td>\n",
              "      <td>-1</td>\n",
              "      <td>0</td>\n",
              "      <td>other</td>\n",
              "      <td>yes</td>\n",
              "      <td>False</td>\n",
              "      <td>False</td>\n",
              "      <td>False</td>\n",
              "      <td>True</td>\n",
              "      <td>False</td>\n",
              "      <td>False</td>\n",
              "    </tr>\n",
              "    <tr>\n",
              "      <th>...</th>\n",
              "      <td>...</td>\n",
              "      <td>...</td>\n",
              "      <td>...</td>\n",
              "      <td>...</td>\n",
              "      <td>...</td>\n",
              "      <td>...</td>\n",
              "      <td>...</td>\n",
              "      <td>...</td>\n",
              "      <td>...</td>\n",
              "      <td>...</td>\n",
              "      <td>...</td>\n",
              "      <td>...</td>\n",
              "      <td>...</td>\n",
              "      <td>...</td>\n",
              "      <td>...</td>\n",
              "      <td>...</td>\n",
              "      <td>...</td>\n",
              "      <td>...</td>\n",
              "      <td>...</td>\n",
              "    </tr>\n",
              "    <tr>\n",
              "      <th>11157</th>\n",
              "      <td>33</td>\n",
              "      <td>single</td>\n",
              "      <td>primary</td>\n",
              "      <td>no</td>\n",
              "      <td>1</td>\n",
              "      <td>yes</td>\n",
              "      <td>no</td>\n",
              "      <td>257</td>\n",
              "      <td>1</td>\n",
              "      <td>-1</td>\n",
              "      <td>0</td>\n",
              "      <td>other</td>\n",
              "      <td>no</td>\n",
              "      <td>True</td>\n",
              "      <td>False</td>\n",
              "      <td>False</td>\n",
              "      <td>False</td>\n",
              "      <td>False</td>\n",
              "      <td>False</td>\n",
              "    </tr>\n",
              "    <tr>\n",
              "      <th>11158</th>\n",
              "      <td>39</td>\n",
              "      <td>married</td>\n",
              "      <td>secondary</td>\n",
              "      <td>no</td>\n",
              "      <td>733</td>\n",
              "      <td>no</td>\n",
              "      <td>no</td>\n",
              "      <td>83</td>\n",
              "      <td>4</td>\n",
              "      <td>-1</td>\n",
              "      <td>0</td>\n",
              "      <td>other</td>\n",
              "      <td>no</td>\n",
              "      <td>False</td>\n",
              "      <td>False</td>\n",
              "      <td>False</td>\n",
              "      <td>True</td>\n",
              "      <td>False</td>\n",
              "      <td>False</td>\n",
              "    </tr>\n",
              "    <tr>\n",
              "      <th>11159</th>\n",
              "      <td>32</td>\n",
              "      <td>single</td>\n",
              "      <td>secondary</td>\n",
              "      <td>no</td>\n",
              "      <td>29</td>\n",
              "      <td>no</td>\n",
              "      <td>no</td>\n",
              "      <td>156</td>\n",
              "      <td>2</td>\n",
              "      <td>-1</td>\n",
              "      <td>0</td>\n",
              "      <td>other</td>\n",
              "      <td>no</td>\n",
              "      <td>False</td>\n",
              "      <td>False</td>\n",
              "      <td>False</td>\n",
              "      <td>True</td>\n",
              "      <td>False</td>\n",
              "      <td>False</td>\n",
              "    </tr>\n",
              "    <tr>\n",
              "      <th>11160</th>\n",
              "      <td>43</td>\n",
              "      <td>married</td>\n",
              "      <td>secondary</td>\n",
              "      <td>no</td>\n",
              "      <td>0</td>\n",
              "      <td>no</td>\n",
              "      <td>yes</td>\n",
              "      <td>9</td>\n",
              "      <td>2</td>\n",
              "      <td>172</td>\n",
              "      <td>5</td>\n",
              "      <td>failure</td>\n",
              "      <td>no</td>\n",
              "      <td>False</td>\n",
              "      <td>False</td>\n",
              "      <td>False</td>\n",
              "      <td>True</td>\n",
              "      <td>False</td>\n",
              "      <td>False</td>\n",
              "    </tr>\n",
              "    <tr>\n",
              "      <th>11161</th>\n",
              "      <td>34</td>\n",
              "      <td>married</td>\n",
              "      <td>secondary</td>\n",
              "      <td>no</td>\n",
              "      <td>0</td>\n",
              "      <td>no</td>\n",
              "      <td>no</td>\n",
              "      <td>628</td>\n",
              "      <td>1</td>\n",
              "      <td>-1</td>\n",
              "      <td>0</td>\n",
              "      <td>other</td>\n",
              "      <td>no</td>\n",
              "      <td>False</td>\n",
              "      <td>False</td>\n",
              "      <td>False</td>\n",
              "      <td>True</td>\n",
              "      <td>False</td>\n",
              "      <td>False</td>\n",
              "    </tr>\n",
              "  </tbody>\n",
              "</table>\n",
              "<p>11162 rows × 19 columns</p>\n",
              "</div>"
            ],
            "text/plain": [
              "       age  marital  education default  balance housing loan  duration  \\\n",
              "0       59  married  secondary      no     2343     yes   no      1042   \n",
              "1       56  married  secondary      no       45      no   no      1467   \n",
              "2       41  married  secondary      no     1270     yes   no      1389   \n",
              "3       55  married  secondary      no     2476     yes   no       579   \n",
              "4       54  married   tertiary      no      184      no   no       673   \n",
              "...    ...      ...        ...     ...      ...     ...  ...       ...   \n",
              "11157   33   single    primary      no        1     yes   no       257   \n",
              "11158   39  married  secondary      no      733      no   no        83   \n",
              "11159   32   single  secondary      no       29      no   no       156   \n",
              "11160   43  married  secondary      no        0      no  yes         9   \n",
              "11161   34  married  secondary      no        0      no   no       628   \n",
              "\n",
              "       campaign  pdays  previous poutcome deposit  job_blue-collar  \\\n",
              "0             1     -1         0    other     yes            False   \n",
              "1             1     -1         0    other     yes            False   \n",
              "2             1     -1         0    other     yes            False   \n",
              "3             1     -1         0    other     yes            False   \n",
              "4             2     -1         0    other     yes            False   \n",
              "...         ...    ...       ...      ...     ...              ...   \n",
              "11157         1     -1         0    other      no             True   \n",
              "11158         4     -1         0    other      no            False   \n",
              "11159         2     -1         0    other      no            False   \n",
              "11160         2    172         5  failure      no            False   \n",
              "11161         1     -1         0    other      no            False   \n",
              "\n",
              "       job_low-income  job_management  job_pink-collar  job_retired  \\\n",
              "0               False           False             True        False   \n",
              "1               False           False             True        False   \n",
              "2               False           False             True        False   \n",
              "3               False           False             True        False   \n",
              "4               False           False             True        False   \n",
              "...               ...             ...              ...          ...   \n",
              "11157           False           False            False        False   \n",
              "11158           False           False             True        False   \n",
              "11159           False           False             True        False   \n",
              "11160           False           False             True        False   \n",
              "11161           False           False             True        False   \n",
              "\n",
              "       job_small-business  \n",
              "0                   False  \n",
              "1                   False  \n",
              "2                   False  \n",
              "3                   False  \n",
              "4                   False  \n",
              "...                   ...  \n",
              "11157               False  \n",
              "11158               False  \n",
              "11159               False  \n",
              "11160               False  \n",
              "11161               False  \n",
              "\n",
              "[11162 rows x 19 columns]"
            ]
          },
          "execution_count": 49,
          "metadata": {},
          "output_type": "execute_result"
        }
      ],
      "source": [
        "df"
      ]
    },
    {
      "cell_type": "code",
      "execution_count": null,
      "id": "1f370282-b347-4d78-b123-ed69acfbb452",
      "metadata": {
        "id": "1f370282-b347-4d78-b123-ed69acfbb452"
      },
      "outputs": [],
      "source": [
        "le = LabelEncoder()\n",
        "df.marital = le.fit_transform(df.marital)"
      ]
    },
    {
      "cell_type": "code",
      "execution_count": null,
      "id": "0f84cdfb-51f3-4df1-b40f-1b101614acf5",
      "metadata": {
        "id": "0f84cdfb-51f3-4df1-b40f-1b101614acf5"
      },
      "outputs": [],
      "source": [
        "df.default = le.fit_transform(df.default)\n",
        "df.housing = le.fit_transform(df.housing)\n",
        "df.loan = le.fit_transform(df.loan)\n",
        "df.poutcome = le.fit_transform(df.poutcome)"
      ]
    },
    {
      "cell_type": "code",
      "execution_count": null,
      "id": "0e9c8d0b-49a0-4c5c-8e6f-855b5d35c9a5",
      "metadata": {
        "id": "0e9c8d0b-49a0-4c5c-8e6f-855b5d35c9a5"
      },
      "outputs": [],
      "source": [
        "df.deposit = le.fit_transform(df.deposit)"
      ]
    },
    {
      "cell_type": "code",
      "execution_count": null,
      "id": "4d2c8139-8b5b-4815-867f-967328309070",
      "metadata": {
        "id": "4d2c8139-8b5b-4815-867f-967328309070"
      },
      "outputs": [],
      "source": [
        "edu_rank = [['primary', 'secondary', 'tertiary']]\n",
        "ord_encod = OrdinalEncoder(categories = edu_rank)\n",
        "df.education = ord_encod.fit_transform(df[['education']])\n",
        ""
      ]
    },
    {
      "cell_type": "code",
      "execution_count": null,
      "id": "3f9bb06d-f917-49b1-aa50-b543a385f72b",
      "metadata": {
        "id": "3f9bb06d-f917-49b1-aa50-b543a385f72b",
        "outputId": "4d28b2dc-80f3-4f07-e96a-4c7765e1c889"
      },
      "outputs": [
        {
          "data": {
            "text/html": [
              "<div>\n",
              "<style scoped>\n",
              "    .dataframe tbody tr th:only-of-type {\n",
              "        vertical-align: middle;\n",
              "    }\n",
              "\n",
              "    .dataframe tbody tr th {\n",
              "        vertical-align: top;\n",
              "    }\n",
              "\n",
              "    .dataframe thead th {\n",
              "        text-align: right;\n",
              "    }\n",
              "</style>\n",
              "<table border=\"1\" class=\"dataframe\">\n",
              "  <thead>\n",
              "    <tr style=\"text-align: right;\">\n",
              "      <th></th>\n",
              "      <th>age</th>\n",
              "      <th>marital</th>\n",
              "      <th>education</th>\n",
              "      <th>default</th>\n",
              "      <th>balance</th>\n",
              "      <th>housing</th>\n",
              "      <th>loan</th>\n",
              "      <th>duration</th>\n",
              "      <th>campaign</th>\n",
              "      <th>pdays</th>\n",
              "      <th>previous</th>\n",
              "      <th>poutcome</th>\n",
              "      <th>deposit</th>\n",
              "      <th>job_blue-collar</th>\n",
              "      <th>job_low-income</th>\n",
              "      <th>job_management</th>\n",
              "      <th>job_pink-collar</th>\n",
              "      <th>job_retired</th>\n",
              "      <th>job_small-business</th>\n",
              "    </tr>\n",
              "  </thead>\n",
              "  <tbody>\n",
              "    <tr>\n",
              "      <th>0</th>\n",
              "      <td>59</td>\n",
              "      <td>1</td>\n",
              "      <td>1.0</td>\n",
              "      <td>0</td>\n",
              "      <td>2343</td>\n",
              "      <td>1</td>\n",
              "      <td>0</td>\n",
              "      <td>1042</td>\n",
              "      <td>1</td>\n",
              "      <td>-1</td>\n",
              "      <td>0</td>\n",
              "      <td>1</td>\n",
              "      <td>1</td>\n",
              "      <td>False</td>\n",
              "      <td>False</td>\n",
              "      <td>False</td>\n",
              "      <td>True</td>\n",
              "      <td>False</td>\n",
              "      <td>False</td>\n",
              "    </tr>\n",
              "    <tr>\n",
              "      <th>1</th>\n",
              "      <td>56</td>\n",
              "      <td>1</td>\n",
              "      <td>1.0</td>\n",
              "      <td>0</td>\n",
              "      <td>45</td>\n",
              "      <td>0</td>\n",
              "      <td>0</td>\n",
              "      <td>1467</td>\n",
              "      <td>1</td>\n",
              "      <td>-1</td>\n",
              "      <td>0</td>\n",
              "      <td>1</td>\n",
              "      <td>1</td>\n",
              "      <td>False</td>\n",
              "      <td>False</td>\n",
              "      <td>False</td>\n",
              "      <td>True</td>\n",
              "      <td>False</td>\n",
              "      <td>False</td>\n",
              "    </tr>\n",
              "    <tr>\n",
              "      <th>2</th>\n",
              "      <td>41</td>\n",
              "      <td>1</td>\n",
              "      <td>1.0</td>\n",
              "      <td>0</td>\n",
              "      <td>1270</td>\n",
              "      <td>1</td>\n",
              "      <td>0</td>\n",
              "      <td>1389</td>\n",
              "      <td>1</td>\n",
              "      <td>-1</td>\n",
              "      <td>0</td>\n",
              "      <td>1</td>\n",
              "      <td>1</td>\n",
              "      <td>False</td>\n",
              "      <td>False</td>\n",
              "      <td>False</td>\n",
              "      <td>True</td>\n",
              "      <td>False</td>\n",
              "      <td>False</td>\n",
              "    </tr>\n",
              "    <tr>\n",
              "      <th>3</th>\n",
              "      <td>55</td>\n",
              "      <td>1</td>\n",
              "      <td>1.0</td>\n",
              "      <td>0</td>\n",
              "      <td>2476</td>\n",
              "      <td>1</td>\n",
              "      <td>0</td>\n",
              "      <td>579</td>\n",
              "      <td>1</td>\n",
              "      <td>-1</td>\n",
              "      <td>0</td>\n",
              "      <td>1</td>\n",
              "      <td>1</td>\n",
              "      <td>False</td>\n",
              "      <td>False</td>\n",
              "      <td>False</td>\n",
              "      <td>True</td>\n",
              "      <td>False</td>\n",
              "      <td>False</td>\n",
              "    </tr>\n",
              "    <tr>\n",
              "      <th>4</th>\n",
              "      <td>54</td>\n",
              "      <td>1</td>\n",
              "      <td>2.0</td>\n",
              "      <td>0</td>\n",
              "      <td>184</td>\n",
              "      <td>0</td>\n",
              "      <td>0</td>\n",
              "      <td>673</td>\n",
              "      <td>2</td>\n",
              "      <td>-1</td>\n",
              "      <td>0</td>\n",
              "      <td>1</td>\n",
              "      <td>1</td>\n",
              "      <td>False</td>\n",
              "      <td>False</td>\n",
              "      <td>False</td>\n",
              "      <td>True</td>\n",
              "      <td>False</td>\n",
              "      <td>False</td>\n",
              "    </tr>\n",
              "  </tbody>\n",
              "</table>\n",
              "</div>"
            ],
            "text/plain": [
              "   age  marital  education  default  balance  housing  loan  duration  \\\n",
              "0   59        1        1.0        0     2343        1     0      1042   \n",
              "1   56        1        1.0        0       45        0     0      1467   \n",
              "2   41        1        1.0        0     1270        1     0      1389   \n",
              "3   55        1        1.0        0     2476        1     0       579   \n",
              "4   54        1        2.0        0      184        0     0       673   \n",
              "\n",
              "   campaign  pdays  previous  poutcome  deposit  job_blue-collar  \\\n",
              "0         1     -1         0         1        1            False   \n",
              "1         1     -1         0         1        1            False   \n",
              "2         1     -1         0         1        1            False   \n",
              "3         1     -1         0         1        1            False   \n",
              "4         2     -1         0         1        1            False   \n",
              "\n",
              "   job_low-income  job_management  job_pink-collar  job_retired  \\\n",
              "0           False           False             True        False   \n",
              "1           False           False             True        False   \n",
              "2           False           False             True        False   \n",
              "3           False           False             True        False   \n",
              "4           False           False             True        False   \n",
              "\n",
              "   job_small-business  \n",
              "0               False  \n",
              "1               False  \n",
              "2               False  \n",
              "3               False  \n",
              "4               False  "
            ]
          },
          "execution_count": 54,
          "metadata": {},
          "output_type": "execute_result"
        }
      ],
      "source": [
        "df.head()"
      ]
    },
    {
      "cell_type": "code",
      "execution_count": null,
      "id": "ca5f2c97-6469-4da1-baca-738d3e048265",
      "metadata": {
        "id": "ca5f2c97-6469-4da1-baca-738d3e048265",
        "outputId": "f9878d7d-50ce-4c74-d093-b826bee9480a"
      },
      "outputs": [
        {
          "data": {
            "text/plain": [
              "Index(['age', 'marital', 'education', 'default', 'balance', 'housing', 'loan',\n",
              "       'duration', 'campaign', 'pdays', 'previous', 'poutcome', 'deposit',\n",
              "       'job_blue-collar', 'job_low-income', 'job_management',\n",
              "       'job_pink-collar', 'job_retired', 'job_small-business'],\n",
              "      dtype='object')"
            ]
          },
          "execution_count": 55,
          "metadata": {},
          "output_type": "execute_result"
        }
      ],
      "source": [
        "df.columns"
      ]
    },
    {
      "cell_type": "code",
      "execution_count": null,
      "id": "5a4ce1a7-1d3d-4b74-a682-f01592bec49f",
      "metadata": {
        "id": "5a4ce1a7-1d3d-4b74-a682-f01592bec49f",
        "outputId": "b77def3a-b285-4a4f-e60f-5cc601a8abd8"
      },
      "outputs": [
        {
          "name": "stdout",
          "output_type": "stream",
          "text": [
            "<class 'pandas.core.frame.DataFrame'>\n",
            "RangeIndex: 11162 entries, 0 to 11161\n",
            "Data columns (total 19 columns):\n",
            " #   Column              Non-Null Count  Dtype  \n",
            "---  ------              --------------  -----  \n",
            " 0   age                 11162 non-null  int64  \n",
            " 1   marital             11162 non-null  int32  \n",
            " 2   education           11162 non-null  float64\n",
            " 3   default             11162 non-null  int32  \n",
            " 4   balance             11162 non-null  int64  \n",
            " 5   housing             11162 non-null  int32  \n",
            " 6   loan                11162 non-null  int32  \n",
            " 7   duration            11162 non-null  int64  \n",
            " 8   campaign            11162 non-null  int64  \n",
            " 9   pdays               11162 non-null  int64  \n",
            " 10  previous            11162 non-null  int64  \n",
            " 11  poutcome            11162 non-null  int32  \n",
            " 12  deposit             11162 non-null  int32  \n",
            " 13  job_blue-collar     11162 non-null  bool   \n",
            " 14  job_low-income      11162 non-null  bool   \n",
            " 15  job_management      11162 non-null  bool   \n",
            " 16  job_pink-collar     11162 non-null  bool   \n",
            " 17  job_retired         11162 non-null  bool   \n",
            " 18  job_small-business  11162 non-null  bool   \n",
            "dtypes: bool(6), float64(1), int32(6), int64(6)\n",
            "memory usage: 937.6 KB\n"
          ]
        }
      ],
      "source": [
        "df.info()"
      ]
    },
    {
      "cell_type": "code",
      "execution_count": null,
      "id": "4ea2adf8-5c16-4c72-b387-ec5681734588",
      "metadata": {
        "id": "4ea2adf8-5c16-4c72-b387-ec5681734588"
      },
      "outputs": [],
      "source": [
        "# Drop job_low-income column. since jobs are oneHot Encoded, one of the encoded columns can be dropped out\n",
        "\n",
        "df.drop('job_low-income', axis = 1, inplace = True)"
      ]
    },
    {
      "cell_type": "code",
      "execution_count": null,
      "id": "25c281a3-5b91-48f8-bb9f-0878ed9bc38d",
      "metadata": {
        "id": "25c281a3-5b91-48f8-bb9f-0878ed9bc38d"
      },
      "outputs": [],
      "source": [
        "# Converting all the datatypes into int\n",
        "\n",
        "df = df.astype('int')"
      ]
    },
    {
      "cell_type": "code",
      "execution_count": null,
      "id": "f8e082a5-a216-4606-bb87-5f95416b6cea",
      "metadata": {
        "id": "f8e082a5-a216-4606-bb87-5f95416b6cea",
        "outputId": "361ef1dd-3356-425c-9d12-8cd57357c446"
      },
      "outputs": [
        {
          "data": {
            "text/html": [
              "<div>\n",
              "<style scoped>\n",
              "    .dataframe tbody tr th:only-of-type {\n",
              "        vertical-align: middle;\n",
              "    }\n",
              "\n",
              "    .dataframe tbody tr th {\n",
              "        vertical-align: top;\n",
              "    }\n",
              "\n",
              "    .dataframe thead th {\n",
              "        text-align: right;\n",
              "    }\n",
              "</style>\n",
              "<table border=\"1\" class=\"dataframe\">\n",
              "  <thead>\n",
              "    <tr style=\"text-align: right;\">\n",
              "      <th></th>\n",
              "      <th>age</th>\n",
              "      <th>marital</th>\n",
              "      <th>education</th>\n",
              "      <th>default</th>\n",
              "      <th>balance</th>\n",
              "      <th>housing</th>\n",
              "      <th>loan</th>\n",
              "      <th>duration</th>\n",
              "      <th>campaign</th>\n",
              "      <th>pdays</th>\n",
              "      <th>previous</th>\n",
              "      <th>poutcome</th>\n",
              "      <th>deposit</th>\n",
              "      <th>job_blue-collar</th>\n",
              "      <th>job_management</th>\n",
              "      <th>job_pink-collar</th>\n",
              "      <th>job_retired</th>\n",
              "      <th>job_small-business</th>\n",
              "    </tr>\n",
              "  </thead>\n",
              "  <tbody>\n",
              "    <tr>\n",
              "      <th>0</th>\n",
              "      <td>59</td>\n",
              "      <td>1</td>\n",
              "      <td>1</td>\n",
              "      <td>0</td>\n",
              "      <td>2343</td>\n",
              "      <td>1</td>\n",
              "      <td>0</td>\n",
              "      <td>1042</td>\n",
              "      <td>1</td>\n",
              "      <td>-1</td>\n",
              "      <td>0</td>\n",
              "      <td>1</td>\n",
              "      <td>1</td>\n",
              "      <td>0</td>\n",
              "      <td>0</td>\n",
              "      <td>1</td>\n",
              "      <td>0</td>\n",
              "      <td>0</td>\n",
              "    </tr>\n",
              "    <tr>\n",
              "      <th>1</th>\n",
              "      <td>56</td>\n",
              "      <td>1</td>\n",
              "      <td>1</td>\n",
              "      <td>0</td>\n",
              "      <td>45</td>\n",
              "      <td>0</td>\n",
              "      <td>0</td>\n",
              "      <td>1467</td>\n",
              "      <td>1</td>\n",
              "      <td>-1</td>\n",
              "      <td>0</td>\n",
              "      <td>1</td>\n",
              "      <td>1</td>\n",
              "      <td>0</td>\n",
              "      <td>0</td>\n",
              "      <td>1</td>\n",
              "      <td>0</td>\n",
              "      <td>0</td>\n",
              "    </tr>\n",
              "    <tr>\n",
              "      <th>2</th>\n",
              "      <td>41</td>\n",
              "      <td>1</td>\n",
              "      <td>1</td>\n",
              "      <td>0</td>\n",
              "      <td>1270</td>\n",
              "      <td>1</td>\n",
              "      <td>0</td>\n",
              "      <td>1389</td>\n",
              "      <td>1</td>\n",
              "      <td>-1</td>\n",
              "      <td>0</td>\n",
              "      <td>1</td>\n",
              "      <td>1</td>\n",
              "      <td>0</td>\n",
              "      <td>0</td>\n",
              "      <td>1</td>\n",
              "      <td>0</td>\n",
              "      <td>0</td>\n",
              "    </tr>\n",
              "    <tr>\n",
              "      <th>3</th>\n",
              "      <td>55</td>\n",
              "      <td>1</td>\n",
              "      <td>1</td>\n",
              "      <td>0</td>\n",
              "      <td>2476</td>\n",
              "      <td>1</td>\n",
              "      <td>0</td>\n",
              "      <td>579</td>\n",
              "      <td>1</td>\n",
              "      <td>-1</td>\n",
              "      <td>0</td>\n",
              "      <td>1</td>\n",
              "      <td>1</td>\n",
              "      <td>0</td>\n",
              "      <td>0</td>\n",
              "      <td>1</td>\n",
              "      <td>0</td>\n",
              "      <td>0</td>\n",
              "    </tr>\n",
              "    <tr>\n",
              "      <th>4</th>\n",
              "      <td>54</td>\n",
              "      <td>1</td>\n",
              "      <td>2</td>\n",
              "      <td>0</td>\n",
              "      <td>184</td>\n",
              "      <td>0</td>\n",
              "      <td>0</td>\n",
              "      <td>673</td>\n",
              "      <td>2</td>\n",
              "      <td>-1</td>\n",
              "      <td>0</td>\n",
              "      <td>1</td>\n",
              "      <td>1</td>\n",
              "      <td>0</td>\n",
              "      <td>0</td>\n",
              "      <td>1</td>\n",
              "      <td>0</td>\n",
              "      <td>0</td>\n",
              "    </tr>\n",
              "  </tbody>\n",
              "</table>\n",
              "</div>"
            ],
            "text/plain": [
              "   age  marital  education  default  balance  housing  loan  duration  \\\n",
              "0   59        1          1        0     2343        1     0      1042   \n",
              "1   56        1          1        0       45        0     0      1467   \n",
              "2   41        1          1        0     1270        1     0      1389   \n",
              "3   55        1          1        0     2476        1     0       579   \n",
              "4   54        1          2        0      184        0     0       673   \n",
              "\n",
              "   campaign  pdays  previous  poutcome  deposit  job_blue-collar  \\\n",
              "0         1     -1         0         1        1                0   \n",
              "1         1     -1         0         1        1                0   \n",
              "2         1     -1         0         1        1                0   \n",
              "3         1     -1         0         1        1                0   \n",
              "4         2     -1         0         1        1                0   \n",
              "\n",
              "   job_management  job_pink-collar  job_retired  job_small-business  \n",
              "0               0                1            0                   0  \n",
              "1               0                1            0                   0  \n",
              "2               0                1            0                   0  \n",
              "3               0                1            0                   0  \n",
              "4               0                1            0                   0  "
            ]
          },
          "execution_count": 59,
          "metadata": {},
          "output_type": "execute_result"
        }
      ],
      "source": [
        "df.head()"
      ]
    },
    {
      "cell_type": "markdown",
      "id": "1ebd26f7-b427-4839-afe3-e18b7f34d644",
      "metadata": {
        "id": "1ebd26f7-b427-4839-afe3-e18b7f34d644"
      },
      "source": [
        "## Handling the numerical column"
      ]
    },
    {
      "cell_type": "code",
      "execution_count": null,
      "id": "0a26fdff-fc25-4944-85c7-685910e0b4ad",
      "metadata": {
        "id": "0a26fdff-fc25-4944-85c7-685910e0b4ad"
      },
      "outputs": [],
      "source": [
        "# pdays == -1 needs to be handled as the business meaning of -1 is different here.\n",
        "# to keep the business meaning unaffected, replace pdays with some very big unrealistic number\n",
        "\n",
        "df.loc[df['pdays'] == -1, 'pdays'] = 100000"
      ]
    },
    {
      "cell_type": "code",
      "execution_count": null,
      "id": "b8424512-4ba5-45e7-9a94-0a8c0929e4dd",
      "metadata": {
        "id": "b8424512-4ba5-45e7-9a94-0a8c0929e4dd",
        "outputId": "980acc6a-667a-4a50-c33b-936ba1366e67"
      },
      "outputs": [
        {
          "data": {
            "text/html": [
              "<div>\n",
              "<style scoped>\n",
              "    .dataframe tbody tr th:only-of-type {\n",
              "        vertical-align: middle;\n",
              "    }\n",
              "\n",
              "    .dataframe tbody tr th {\n",
              "        vertical-align: top;\n",
              "    }\n",
              "\n",
              "    .dataframe thead th {\n",
              "        text-align: right;\n",
              "    }\n",
              "</style>\n",
              "<table border=\"1\" class=\"dataframe\">\n",
              "  <thead>\n",
              "    <tr style=\"text-align: right;\">\n",
              "      <th></th>\n",
              "      <th>age</th>\n",
              "      <th>marital</th>\n",
              "      <th>education</th>\n",
              "      <th>default</th>\n",
              "      <th>balance</th>\n",
              "      <th>housing</th>\n",
              "      <th>loan</th>\n",
              "      <th>duration</th>\n",
              "      <th>campaign</th>\n",
              "      <th>pdays</th>\n",
              "      <th>previous</th>\n",
              "      <th>poutcome</th>\n",
              "      <th>deposit</th>\n",
              "      <th>job_blue-collar</th>\n",
              "      <th>job_management</th>\n",
              "      <th>job_pink-collar</th>\n",
              "      <th>job_retired</th>\n",
              "      <th>job_small-business</th>\n",
              "    </tr>\n",
              "  </thead>\n",
              "  <tbody>\n",
              "    <tr>\n",
              "      <th>0</th>\n",
              "      <td>59</td>\n",
              "      <td>1</td>\n",
              "      <td>1</td>\n",
              "      <td>0</td>\n",
              "      <td>2343</td>\n",
              "      <td>1</td>\n",
              "      <td>0</td>\n",
              "      <td>1042</td>\n",
              "      <td>1</td>\n",
              "      <td>100000</td>\n",
              "      <td>0</td>\n",
              "      <td>1</td>\n",
              "      <td>1</td>\n",
              "      <td>0</td>\n",
              "      <td>0</td>\n",
              "      <td>1</td>\n",
              "      <td>0</td>\n",
              "      <td>0</td>\n",
              "    </tr>\n",
              "    <tr>\n",
              "      <th>1</th>\n",
              "      <td>56</td>\n",
              "      <td>1</td>\n",
              "      <td>1</td>\n",
              "      <td>0</td>\n",
              "      <td>45</td>\n",
              "      <td>0</td>\n",
              "      <td>0</td>\n",
              "      <td>1467</td>\n",
              "      <td>1</td>\n",
              "      <td>100000</td>\n",
              "      <td>0</td>\n",
              "      <td>1</td>\n",
              "      <td>1</td>\n",
              "      <td>0</td>\n",
              "      <td>0</td>\n",
              "      <td>1</td>\n",
              "      <td>0</td>\n",
              "      <td>0</td>\n",
              "    </tr>\n",
              "    <tr>\n",
              "      <th>2</th>\n",
              "      <td>41</td>\n",
              "      <td>1</td>\n",
              "      <td>1</td>\n",
              "      <td>0</td>\n",
              "      <td>1270</td>\n",
              "      <td>1</td>\n",
              "      <td>0</td>\n",
              "      <td>1389</td>\n",
              "      <td>1</td>\n",
              "      <td>100000</td>\n",
              "      <td>0</td>\n",
              "      <td>1</td>\n",
              "      <td>1</td>\n",
              "      <td>0</td>\n",
              "      <td>0</td>\n",
              "      <td>1</td>\n",
              "      <td>0</td>\n",
              "      <td>0</td>\n",
              "    </tr>\n",
              "    <tr>\n",
              "      <th>3</th>\n",
              "      <td>55</td>\n",
              "      <td>1</td>\n",
              "      <td>1</td>\n",
              "      <td>0</td>\n",
              "      <td>2476</td>\n",
              "      <td>1</td>\n",
              "      <td>0</td>\n",
              "      <td>579</td>\n",
              "      <td>1</td>\n",
              "      <td>100000</td>\n",
              "      <td>0</td>\n",
              "      <td>1</td>\n",
              "      <td>1</td>\n",
              "      <td>0</td>\n",
              "      <td>0</td>\n",
              "      <td>1</td>\n",
              "      <td>0</td>\n",
              "      <td>0</td>\n",
              "    </tr>\n",
              "    <tr>\n",
              "      <th>4</th>\n",
              "      <td>54</td>\n",
              "      <td>1</td>\n",
              "      <td>2</td>\n",
              "      <td>0</td>\n",
              "      <td>184</td>\n",
              "      <td>0</td>\n",
              "      <td>0</td>\n",
              "      <td>673</td>\n",
              "      <td>2</td>\n",
              "      <td>100000</td>\n",
              "      <td>0</td>\n",
              "      <td>1</td>\n",
              "      <td>1</td>\n",
              "      <td>0</td>\n",
              "      <td>0</td>\n",
              "      <td>1</td>\n",
              "      <td>0</td>\n",
              "      <td>0</td>\n",
              "    </tr>\n",
              "    <tr>\n",
              "      <th>...</th>\n",
              "      <td>...</td>\n",
              "      <td>...</td>\n",
              "      <td>...</td>\n",
              "      <td>...</td>\n",
              "      <td>...</td>\n",
              "      <td>...</td>\n",
              "      <td>...</td>\n",
              "      <td>...</td>\n",
              "      <td>...</td>\n",
              "      <td>...</td>\n",
              "      <td>...</td>\n",
              "      <td>...</td>\n",
              "      <td>...</td>\n",
              "      <td>...</td>\n",
              "      <td>...</td>\n",
              "      <td>...</td>\n",
              "      <td>...</td>\n",
              "      <td>...</td>\n",
              "    </tr>\n",
              "    <tr>\n",
              "      <th>11157</th>\n",
              "      <td>33</td>\n",
              "      <td>2</td>\n",
              "      <td>0</td>\n",
              "      <td>0</td>\n",
              "      <td>1</td>\n",
              "      <td>1</td>\n",
              "      <td>0</td>\n",
              "      <td>257</td>\n",
              "      <td>1</td>\n",
              "      <td>100000</td>\n",
              "      <td>0</td>\n",
              "      <td>1</td>\n",
              "      <td>0</td>\n",
              "      <td>1</td>\n",
              "      <td>0</td>\n",
              "      <td>0</td>\n",
              "      <td>0</td>\n",
              "      <td>0</td>\n",
              "    </tr>\n",
              "    <tr>\n",
              "      <th>11158</th>\n",
              "      <td>39</td>\n",
              "      <td>1</td>\n",
              "      <td>1</td>\n",
              "      <td>0</td>\n",
              "      <td>733</td>\n",
              "      <td>0</td>\n",
              "      <td>0</td>\n",
              "      <td>83</td>\n",
              "      <td>4</td>\n",
              "      <td>100000</td>\n",
              "      <td>0</td>\n",
              "      <td>1</td>\n",
              "      <td>0</td>\n",
              "      <td>0</td>\n",
              "      <td>0</td>\n",
              "      <td>1</td>\n",
              "      <td>0</td>\n",
              "      <td>0</td>\n",
              "    </tr>\n",
              "    <tr>\n",
              "      <th>11159</th>\n",
              "      <td>32</td>\n",
              "      <td>2</td>\n",
              "      <td>1</td>\n",
              "      <td>0</td>\n",
              "      <td>29</td>\n",
              "      <td>0</td>\n",
              "      <td>0</td>\n",
              "      <td>156</td>\n",
              "      <td>2</td>\n",
              "      <td>100000</td>\n",
              "      <td>0</td>\n",
              "      <td>1</td>\n",
              "      <td>0</td>\n",
              "      <td>0</td>\n",
              "      <td>0</td>\n",
              "      <td>1</td>\n",
              "      <td>0</td>\n",
              "      <td>0</td>\n",
              "    </tr>\n",
              "    <tr>\n",
              "      <th>11160</th>\n",
              "      <td>43</td>\n",
              "      <td>1</td>\n",
              "      <td>1</td>\n",
              "      <td>0</td>\n",
              "      <td>0</td>\n",
              "      <td>0</td>\n",
              "      <td>1</td>\n",
              "      <td>9</td>\n",
              "      <td>2</td>\n",
              "      <td>172</td>\n",
              "      <td>5</td>\n",
              "      <td>0</td>\n",
              "      <td>0</td>\n",
              "      <td>0</td>\n",
              "      <td>0</td>\n",
              "      <td>1</td>\n",
              "      <td>0</td>\n",
              "      <td>0</td>\n",
              "    </tr>\n",
              "    <tr>\n",
              "      <th>11161</th>\n",
              "      <td>34</td>\n",
              "      <td>1</td>\n",
              "      <td>1</td>\n",
              "      <td>0</td>\n",
              "      <td>0</td>\n",
              "      <td>0</td>\n",
              "      <td>0</td>\n",
              "      <td>628</td>\n",
              "      <td>1</td>\n",
              "      <td>100000</td>\n",
              "      <td>0</td>\n",
              "      <td>1</td>\n",
              "      <td>0</td>\n",
              "      <td>0</td>\n",
              "      <td>0</td>\n",
              "      <td>1</td>\n",
              "      <td>0</td>\n",
              "      <td>0</td>\n",
              "    </tr>\n",
              "  </tbody>\n",
              "</table>\n",
              "<p>11162 rows × 18 columns</p>\n",
              "</div>"
            ],
            "text/plain": [
              "       age  marital  education  default  balance  housing  loan  duration  \\\n",
              "0       59        1          1        0     2343        1     0      1042   \n",
              "1       56        1          1        0       45        0     0      1467   \n",
              "2       41        1          1        0     1270        1     0      1389   \n",
              "3       55        1          1        0     2476        1     0       579   \n",
              "4       54        1          2        0      184        0     0       673   \n",
              "...    ...      ...        ...      ...      ...      ...   ...       ...   \n",
              "11157   33        2          0        0        1        1     0       257   \n",
              "11158   39        1          1        0      733        0     0        83   \n",
              "11159   32        2          1        0       29        0     0       156   \n",
              "11160   43        1          1        0        0        0     1         9   \n",
              "11161   34        1          1        0        0        0     0       628   \n",
              "\n",
              "       campaign   pdays  previous  poutcome  deposit  job_blue-collar  \\\n",
              "0             1  100000         0         1        1                0   \n",
              "1             1  100000         0         1        1                0   \n",
              "2             1  100000         0         1        1                0   \n",
              "3             1  100000         0         1        1                0   \n",
              "4             2  100000         0         1        1                0   \n",
              "...         ...     ...       ...       ...      ...              ...   \n",
              "11157         1  100000         0         1        0                1   \n",
              "11158         4  100000         0         1        0                0   \n",
              "11159         2  100000         0         1        0                0   \n",
              "11160         2     172         5         0        0                0   \n",
              "11161         1  100000         0         1        0                0   \n",
              "\n",
              "       job_management  job_pink-collar  job_retired  job_small-business  \n",
              "0                   0                1            0                   0  \n",
              "1                   0                1            0                   0  \n",
              "2                   0                1            0                   0  \n",
              "3                   0                1            0                   0  \n",
              "4                   0                1            0                   0  \n",
              "...               ...              ...          ...                 ...  \n",
              "11157               0                0            0                   0  \n",
              "11158               0                1            0                   0  \n",
              "11159               0                1            0                   0  \n",
              "11160               0                1            0                   0  \n",
              "11161               0                1            0                   0  \n",
              "\n",
              "[11162 rows x 18 columns]"
            ]
          },
          "execution_count": 61,
          "metadata": {},
          "output_type": "execute_result"
        }
      ],
      "source": [
        "df"
      ]
    },
    {
      "cell_type": "code",
      "execution_count": null,
      "id": "32a3ee6f-76f3-4915-b5aa-7cb0a0441818",
      "metadata": {
        "id": "32a3ee6f-76f3-4915-b5aa-7cb0a0441818",
        "outputId": "f891bf42-1762-4262-9dda-bc712efad12d"
      },
      "outputs": [
        {
          "data": {
            "text/plain": [
              "pdays\n",
              "100000    8324\n",
              "92         106\n",
              "182         89\n",
              "91          84\n",
              "181         81\n",
              "          ... \n",
              "437          1\n",
              "728          1\n",
              "518          1\n",
              "828          1\n",
              "118          1\n",
              "Name: count, Length: 472, dtype: int64"
            ]
          },
          "execution_count": 62,
          "metadata": {},
          "output_type": "execute_result"
        }
      ],
      "source": [
        "df.pdays.value_counts()"
      ]
    },
    {
      "cell_type": "code",
      "execution_count": null,
      "id": "09f92dc4-7500-4b59-8b5d-49a4b87bef4b",
      "metadata": {
        "id": "09f92dc4-7500-4b59-8b5d-49a4b87bef4b"
      },
      "outputs": [],
      "source": [
        "# do the reciprocal of pdays, so all the numbers can fit in a  reasonable scale\n",
        "# reducing the impact of large numbers is necessary\n",
        "# there is no '0' value for pdays, hence reciprocal can be done easily\n",
        "\n",
        "df['scaled_pdays'] = np.where(df['pdays'], 1/df['pdays'], 1/df['pdays'])"
      ]
    },
    {
      "cell_type": "code",
      "execution_count": null,
      "id": "9433b04a-5400-495d-beef-d0fbdfff8cb4",
      "metadata": {
        "id": "9433b04a-5400-495d-beef-d0fbdfff8cb4",
        "outputId": "4f9605dc-4c50-4ce8-c611-9d2762ece35b"
      },
      "outputs": [
        {
          "data": {
            "text/html": [
              "<div>\n",
              "<style scoped>\n",
              "    .dataframe tbody tr th:only-of-type {\n",
              "        vertical-align: middle;\n",
              "    }\n",
              "\n",
              "    .dataframe tbody tr th {\n",
              "        vertical-align: top;\n",
              "    }\n",
              "\n",
              "    .dataframe thead th {\n",
              "        text-align: right;\n",
              "    }\n",
              "</style>\n",
              "<table border=\"1\" class=\"dataframe\">\n",
              "  <thead>\n",
              "    <tr style=\"text-align: right;\">\n",
              "      <th></th>\n",
              "      <th>age</th>\n",
              "      <th>marital</th>\n",
              "      <th>education</th>\n",
              "      <th>default</th>\n",
              "      <th>balance</th>\n",
              "      <th>housing</th>\n",
              "      <th>loan</th>\n",
              "      <th>duration</th>\n",
              "      <th>campaign</th>\n",
              "      <th>pdays</th>\n",
              "      <th>previous</th>\n",
              "      <th>poutcome</th>\n",
              "      <th>deposit</th>\n",
              "      <th>job_blue-collar</th>\n",
              "      <th>job_management</th>\n",
              "      <th>job_pink-collar</th>\n",
              "      <th>job_retired</th>\n",
              "      <th>job_small-business</th>\n",
              "      <th>scaled_pdays</th>\n",
              "    </tr>\n",
              "  </thead>\n",
              "  <tbody>\n",
              "    <tr>\n",
              "      <th>0</th>\n",
              "      <td>59</td>\n",
              "      <td>1</td>\n",
              "      <td>1</td>\n",
              "      <td>0</td>\n",
              "      <td>2343</td>\n",
              "      <td>1</td>\n",
              "      <td>0</td>\n",
              "      <td>1042</td>\n",
              "      <td>1</td>\n",
              "      <td>100000</td>\n",
              "      <td>0</td>\n",
              "      <td>1</td>\n",
              "      <td>1</td>\n",
              "      <td>0</td>\n",
              "      <td>0</td>\n",
              "      <td>1</td>\n",
              "      <td>0</td>\n",
              "      <td>0</td>\n",
              "      <td>0.000010</td>\n",
              "    </tr>\n",
              "    <tr>\n",
              "      <th>1</th>\n",
              "      <td>56</td>\n",
              "      <td>1</td>\n",
              "      <td>1</td>\n",
              "      <td>0</td>\n",
              "      <td>45</td>\n",
              "      <td>0</td>\n",
              "      <td>0</td>\n",
              "      <td>1467</td>\n",
              "      <td>1</td>\n",
              "      <td>100000</td>\n",
              "      <td>0</td>\n",
              "      <td>1</td>\n",
              "      <td>1</td>\n",
              "      <td>0</td>\n",
              "      <td>0</td>\n",
              "      <td>1</td>\n",
              "      <td>0</td>\n",
              "      <td>0</td>\n",
              "      <td>0.000010</td>\n",
              "    </tr>\n",
              "    <tr>\n",
              "      <th>2</th>\n",
              "      <td>41</td>\n",
              "      <td>1</td>\n",
              "      <td>1</td>\n",
              "      <td>0</td>\n",
              "      <td>1270</td>\n",
              "      <td>1</td>\n",
              "      <td>0</td>\n",
              "      <td>1389</td>\n",
              "      <td>1</td>\n",
              "      <td>100000</td>\n",
              "      <td>0</td>\n",
              "      <td>1</td>\n",
              "      <td>1</td>\n",
              "      <td>0</td>\n",
              "      <td>0</td>\n",
              "      <td>1</td>\n",
              "      <td>0</td>\n",
              "      <td>0</td>\n",
              "      <td>0.000010</td>\n",
              "    </tr>\n",
              "    <tr>\n",
              "      <th>3</th>\n",
              "      <td>55</td>\n",
              "      <td>1</td>\n",
              "      <td>1</td>\n",
              "      <td>0</td>\n",
              "      <td>2476</td>\n",
              "      <td>1</td>\n",
              "      <td>0</td>\n",
              "      <td>579</td>\n",
              "      <td>1</td>\n",
              "      <td>100000</td>\n",
              "      <td>0</td>\n",
              "      <td>1</td>\n",
              "      <td>1</td>\n",
              "      <td>0</td>\n",
              "      <td>0</td>\n",
              "      <td>1</td>\n",
              "      <td>0</td>\n",
              "      <td>0</td>\n",
              "      <td>0.000010</td>\n",
              "    </tr>\n",
              "    <tr>\n",
              "      <th>4</th>\n",
              "      <td>54</td>\n",
              "      <td>1</td>\n",
              "      <td>2</td>\n",
              "      <td>0</td>\n",
              "      <td>184</td>\n",
              "      <td>0</td>\n",
              "      <td>0</td>\n",
              "      <td>673</td>\n",
              "      <td>2</td>\n",
              "      <td>100000</td>\n",
              "      <td>0</td>\n",
              "      <td>1</td>\n",
              "      <td>1</td>\n",
              "      <td>0</td>\n",
              "      <td>0</td>\n",
              "      <td>1</td>\n",
              "      <td>0</td>\n",
              "      <td>0</td>\n",
              "      <td>0.000010</td>\n",
              "    </tr>\n",
              "    <tr>\n",
              "      <th>...</th>\n",
              "      <td>...</td>\n",
              "      <td>...</td>\n",
              "      <td>...</td>\n",
              "      <td>...</td>\n",
              "      <td>...</td>\n",
              "      <td>...</td>\n",
              "      <td>...</td>\n",
              "      <td>...</td>\n",
              "      <td>...</td>\n",
              "      <td>...</td>\n",
              "      <td>...</td>\n",
              "      <td>...</td>\n",
              "      <td>...</td>\n",
              "      <td>...</td>\n",
              "      <td>...</td>\n",
              "      <td>...</td>\n",
              "      <td>...</td>\n",
              "      <td>...</td>\n",
              "      <td>...</td>\n",
              "    </tr>\n",
              "    <tr>\n",
              "      <th>11157</th>\n",
              "      <td>33</td>\n",
              "      <td>2</td>\n",
              "      <td>0</td>\n",
              "      <td>0</td>\n",
              "      <td>1</td>\n",
              "      <td>1</td>\n",
              "      <td>0</td>\n",
              "      <td>257</td>\n",
              "      <td>1</td>\n",
              "      <td>100000</td>\n",
              "      <td>0</td>\n",
              "      <td>1</td>\n",
              "      <td>0</td>\n",
              "      <td>1</td>\n",
              "      <td>0</td>\n",
              "      <td>0</td>\n",
              "      <td>0</td>\n",
              "      <td>0</td>\n",
              "      <td>0.000010</td>\n",
              "    </tr>\n",
              "    <tr>\n",
              "      <th>11158</th>\n",
              "      <td>39</td>\n",
              "      <td>1</td>\n",
              "      <td>1</td>\n",
              "      <td>0</td>\n",
              "      <td>733</td>\n",
              "      <td>0</td>\n",
              "      <td>0</td>\n",
              "      <td>83</td>\n",
              "      <td>4</td>\n",
              "      <td>100000</td>\n",
              "      <td>0</td>\n",
              "      <td>1</td>\n",
              "      <td>0</td>\n",
              "      <td>0</td>\n",
              "      <td>0</td>\n",
              "      <td>1</td>\n",
              "      <td>0</td>\n",
              "      <td>0</td>\n",
              "      <td>0.000010</td>\n",
              "    </tr>\n",
              "    <tr>\n",
              "      <th>11159</th>\n",
              "      <td>32</td>\n",
              "      <td>2</td>\n",
              "      <td>1</td>\n",
              "      <td>0</td>\n",
              "      <td>29</td>\n",
              "      <td>0</td>\n",
              "      <td>0</td>\n",
              "      <td>156</td>\n",
              "      <td>2</td>\n",
              "      <td>100000</td>\n",
              "      <td>0</td>\n",
              "      <td>1</td>\n",
              "      <td>0</td>\n",
              "      <td>0</td>\n",
              "      <td>0</td>\n",
              "      <td>1</td>\n",
              "      <td>0</td>\n",
              "      <td>0</td>\n",
              "      <td>0.000010</td>\n",
              "    </tr>\n",
              "    <tr>\n",
              "      <th>11160</th>\n",
              "      <td>43</td>\n",
              "      <td>1</td>\n",
              "      <td>1</td>\n",
              "      <td>0</td>\n",
              "      <td>0</td>\n",
              "      <td>0</td>\n",
              "      <td>1</td>\n",
              "      <td>9</td>\n",
              "      <td>2</td>\n",
              "      <td>172</td>\n",
              "      <td>5</td>\n",
              "      <td>0</td>\n",
              "      <td>0</td>\n",
              "      <td>0</td>\n",
              "      <td>0</td>\n",
              "      <td>1</td>\n",
              "      <td>0</td>\n",
              "      <td>0</td>\n",
              "      <td>0.005814</td>\n",
              "    </tr>\n",
              "    <tr>\n",
              "      <th>11161</th>\n",
              "      <td>34</td>\n",
              "      <td>1</td>\n",
              "      <td>1</td>\n",
              "      <td>0</td>\n",
              "      <td>0</td>\n",
              "      <td>0</td>\n",
              "      <td>0</td>\n",
              "      <td>628</td>\n",
              "      <td>1</td>\n",
              "      <td>100000</td>\n",
              "      <td>0</td>\n",
              "      <td>1</td>\n",
              "      <td>0</td>\n",
              "      <td>0</td>\n",
              "      <td>0</td>\n",
              "      <td>1</td>\n",
              "      <td>0</td>\n",
              "      <td>0</td>\n",
              "      <td>0.000010</td>\n",
              "    </tr>\n",
              "  </tbody>\n",
              "</table>\n",
              "<p>11162 rows × 19 columns</p>\n",
              "</div>"
            ],
            "text/plain": [
              "       age  marital  education  default  balance  housing  loan  duration  \\\n",
              "0       59        1          1        0     2343        1     0      1042   \n",
              "1       56        1          1        0       45        0     0      1467   \n",
              "2       41        1          1        0     1270        1     0      1389   \n",
              "3       55        1          1        0     2476        1     0       579   \n",
              "4       54        1          2        0      184        0     0       673   \n",
              "...    ...      ...        ...      ...      ...      ...   ...       ...   \n",
              "11157   33        2          0        0        1        1     0       257   \n",
              "11158   39        1          1        0      733        0     0        83   \n",
              "11159   32        2          1        0       29        0     0       156   \n",
              "11160   43        1          1        0        0        0     1         9   \n",
              "11161   34        1          1        0        0        0     0       628   \n",
              "\n",
              "       campaign   pdays  previous  poutcome  deposit  job_blue-collar  \\\n",
              "0             1  100000         0         1        1                0   \n",
              "1             1  100000         0         1        1                0   \n",
              "2             1  100000         0         1        1                0   \n",
              "3             1  100000         0         1        1                0   \n",
              "4             2  100000         0         1        1                0   \n",
              "...         ...     ...       ...       ...      ...              ...   \n",
              "11157         1  100000         0         1        0                1   \n",
              "11158         4  100000         0         1        0                0   \n",
              "11159         2  100000         0         1        0                0   \n",
              "11160         2     172         5         0        0                0   \n",
              "11161         1  100000         0         1        0                0   \n",
              "\n",
              "       job_management  job_pink-collar  job_retired  job_small-business  \\\n",
              "0                   0                1            0                   0   \n",
              "1                   0                1            0                   0   \n",
              "2                   0                1            0                   0   \n",
              "3                   0                1            0                   0   \n",
              "4                   0                1            0                   0   \n",
              "...               ...              ...          ...                 ...   \n",
              "11157               0                0            0                   0   \n",
              "11158               0                1            0                   0   \n",
              "11159               0                1            0                   0   \n",
              "11160               0                1            0                   0   \n",
              "11161               0                1            0                   0   \n",
              "\n",
              "       scaled_pdays  \n",
              "0          0.000010  \n",
              "1          0.000010  \n",
              "2          0.000010  \n",
              "3          0.000010  \n",
              "4          0.000010  \n",
              "...             ...  \n",
              "11157      0.000010  \n",
              "11158      0.000010  \n",
              "11159      0.000010  \n",
              "11160      0.005814  \n",
              "11161      0.000010  \n",
              "\n",
              "[11162 rows x 19 columns]"
            ]
          },
          "execution_count": 64,
          "metadata": {},
          "output_type": "execute_result"
        }
      ],
      "source": [
        "df"
      ]
    },
    {
      "cell_type": "code",
      "execution_count": null,
      "id": "ce368e2e-5fb4-4e14-a1f0-328a69d6cc4e",
      "metadata": {
        "id": "ce368e2e-5fb4-4e14-a1f0-328a69d6cc4e"
      },
      "outputs": [],
      "source": [
        "# Now drop pdays\n",
        "df.drop('pdays', axis = 1, inplace = True)"
      ]
    },
    {
      "cell_type": "code",
      "execution_count": null,
      "id": "b11b0107-20bb-490a-9072-dddaba1dc2cd",
      "metadata": {
        "id": "b11b0107-20bb-490a-9072-dddaba1dc2cd",
        "outputId": "71db87ef-c342-48e9-b4eb-0af2e5f281c8"
      },
      "outputs": [
        {
          "data": {
            "text/html": [
              "<div>\n",
              "<style scoped>\n",
              "    .dataframe tbody tr th:only-of-type {\n",
              "        vertical-align: middle;\n",
              "    }\n",
              "\n",
              "    .dataframe tbody tr th {\n",
              "        vertical-align: top;\n",
              "    }\n",
              "\n",
              "    .dataframe thead th {\n",
              "        text-align: right;\n",
              "    }\n",
              "</style>\n",
              "<table border=\"1\" class=\"dataframe\">\n",
              "  <thead>\n",
              "    <tr style=\"text-align: right;\">\n",
              "      <th></th>\n",
              "      <th>age</th>\n",
              "      <th>marital</th>\n",
              "      <th>education</th>\n",
              "      <th>default</th>\n",
              "      <th>balance</th>\n",
              "      <th>housing</th>\n",
              "      <th>loan</th>\n",
              "      <th>duration</th>\n",
              "      <th>campaign</th>\n",
              "      <th>previous</th>\n",
              "      <th>poutcome</th>\n",
              "      <th>deposit</th>\n",
              "      <th>job_blue-collar</th>\n",
              "      <th>job_management</th>\n",
              "      <th>job_pink-collar</th>\n",
              "      <th>job_retired</th>\n",
              "      <th>job_small-business</th>\n",
              "      <th>scaled_pdays</th>\n",
              "    </tr>\n",
              "  </thead>\n",
              "  <tbody>\n",
              "    <tr>\n",
              "      <th>0</th>\n",
              "      <td>59</td>\n",
              "      <td>1</td>\n",
              "      <td>1</td>\n",
              "      <td>0</td>\n",
              "      <td>2343</td>\n",
              "      <td>1</td>\n",
              "      <td>0</td>\n",
              "      <td>1042</td>\n",
              "      <td>1</td>\n",
              "      <td>0</td>\n",
              "      <td>1</td>\n",
              "      <td>1</td>\n",
              "      <td>0</td>\n",
              "      <td>0</td>\n",
              "      <td>1</td>\n",
              "      <td>0</td>\n",
              "      <td>0</td>\n",
              "      <td>0.000010</td>\n",
              "    </tr>\n",
              "    <tr>\n",
              "      <th>1</th>\n",
              "      <td>56</td>\n",
              "      <td>1</td>\n",
              "      <td>1</td>\n",
              "      <td>0</td>\n",
              "      <td>45</td>\n",
              "      <td>0</td>\n",
              "      <td>0</td>\n",
              "      <td>1467</td>\n",
              "      <td>1</td>\n",
              "      <td>0</td>\n",
              "      <td>1</td>\n",
              "      <td>1</td>\n",
              "      <td>0</td>\n",
              "      <td>0</td>\n",
              "      <td>1</td>\n",
              "      <td>0</td>\n",
              "      <td>0</td>\n",
              "      <td>0.000010</td>\n",
              "    </tr>\n",
              "    <tr>\n",
              "      <th>2</th>\n",
              "      <td>41</td>\n",
              "      <td>1</td>\n",
              "      <td>1</td>\n",
              "      <td>0</td>\n",
              "      <td>1270</td>\n",
              "      <td>1</td>\n",
              "      <td>0</td>\n",
              "      <td>1389</td>\n",
              "      <td>1</td>\n",
              "      <td>0</td>\n",
              "      <td>1</td>\n",
              "      <td>1</td>\n",
              "      <td>0</td>\n",
              "      <td>0</td>\n",
              "      <td>1</td>\n",
              "      <td>0</td>\n",
              "      <td>0</td>\n",
              "      <td>0.000010</td>\n",
              "    </tr>\n",
              "    <tr>\n",
              "      <th>3</th>\n",
              "      <td>55</td>\n",
              "      <td>1</td>\n",
              "      <td>1</td>\n",
              "      <td>0</td>\n",
              "      <td>2476</td>\n",
              "      <td>1</td>\n",
              "      <td>0</td>\n",
              "      <td>579</td>\n",
              "      <td>1</td>\n",
              "      <td>0</td>\n",
              "      <td>1</td>\n",
              "      <td>1</td>\n",
              "      <td>0</td>\n",
              "      <td>0</td>\n",
              "      <td>1</td>\n",
              "      <td>0</td>\n",
              "      <td>0</td>\n",
              "      <td>0.000010</td>\n",
              "    </tr>\n",
              "    <tr>\n",
              "      <th>4</th>\n",
              "      <td>54</td>\n",
              "      <td>1</td>\n",
              "      <td>2</td>\n",
              "      <td>0</td>\n",
              "      <td>184</td>\n",
              "      <td>0</td>\n",
              "      <td>0</td>\n",
              "      <td>673</td>\n",
              "      <td>2</td>\n",
              "      <td>0</td>\n",
              "      <td>1</td>\n",
              "      <td>1</td>\n",
              "      <td>0</td>\n",
              "      <td>0</td>\n",
              "      <td>1</td>\n",
              "      <td>0</td>\n",
              "      <td>0</td>\n",
              "      <td>0.000010</td>\n",
              "    </tr>\n",
              "    <tr>\n",
              "      <th>...</th>\n",
              "      <td>...</td>\n",
              "      <td>...</td>\n",
              "      <td>...</td>\n",
              "      <td>...</td>\n",
              "      <td>...</td>\n",
              "      <td>...</td>\n",
              "      <td>...</td>\n",
              "      <td>...</td>\n",
              "      <td>...</td>\n",
              "      <td>...</td>\n",
              "      <td>...</td>\n",
              "      <td>...</td>\n",
              "      <td>...</td>\n",
              "      <td>...</td>\n",
              "      <td>...</td>\n",
              "      <td>...</td>\n",
              "      <td>...</td>\n",
              "      <td>...</td>\n",
              "    </tr>\n",
              "    <tr>\n",
              "      <th>11157</th>\n",
              "      <td>33</td>\n",
              "      <td>2</td>\n",
              "      <td>0</td>\n",
              "      <td>0</td>\n",
              "      <td>1</td>\n",
              "      <td>1</td>\n",
              "      <td>0</td>\n",
              "      <td>257</td>\n",
              "      <td>1</td>\n",
              "      <td>0</td>\n",
              "      <td>1</td>\n",
              "      <td>0</td>\n",
              "      <td>1</td>\n",
              "      <td>0</td>\n",
              "      <td>0</td>\n",
              "      <td>0</td>\n",
              "      <td>0</td>\n",
              "      <td>0.000010</td>\n",
              "    </tr>\n",
              "    <tr>\n",
              "      <th>11158</th>\n",
              "      <td>39</td>\n",
              "      <td>1</td>\n",
              "      <td>1</td>\n",
              "      <td>0</td>\n",
              "      <td>733</td>\n",
              "      <td>0</td>\n",
              "      <td>0</td>\n",
              "      <td>83</td>\n",
              "      <td>4</td>\n",
              "      <td>0</td>\n",
              "      <td>1</td>\n",
              "      <td>0</td>\n",
              "      <td>0</td>\n",
              "      <td>0</td>\n",
              "      <td>1</td>\n",
              "      <td>0</td>\n",
              "      <td>0</td>\n",
              "      <td>0.000010</td>\n",
              "    </tr>\n",
              "    <tr>\n",
              "      <th>11159</th>\n",
              "      <td>32</td>\n",
              "      <td>2</td>\n",
              "      <td>1</td>\n",
              "      <td>0</td>\n",
              "      <td>29</td>\n",
              "      <td>0</td>\n",
              "      <td>0</td>\n",
              "      <td>156</td>\n",
              "      <td>2</td>\n",
              "      <td>0</td>\n",
              "      <td>1</td>\n",
              "      <td>0</td>\n",
              "      <td>0</td>\n",
              "      <td>0</td>\n",
              "      <td>1</td>\n",
              "      <td>0</td>\n",
              "      <td>0</td>\n",
              "      <td>0.000010</td>\n",
              "    </tr>\n",
              "    <tr>\n",
              "      <th>11160</th>\n",
              "      <td>43</td>\n",
              "      <td>1</td>\n",
              "      <td>1</td>\n",
              "      <td>0</td>\n",
              "      <td>0</td>\n",
              "      <td>0</td>\n",
              "      <td>1</td>\n",
              "      <td>9</td>\n",
              "      <td>2</td>\n",
              "      <td>5</td>\n",
              "      <td>0</td>\n",
              "      <td>0</td>\n",
              "      <td>0</td>\n",
              "      <td>0</td>\n",
              "      <td>1</td>\n",
              "      <td>0</td>\n",
              "      <td>0</td>\n",
              "      <td>0.005814</td>\n",
              "    </tr>\n",
              "    <tr>\n",
              "      <th>11161</th>\n",
              "      <td>34</td>\n",
              "      <td>1</td>\n",
              "      <td>1</td>\n",
              "      <td>0</td>\n",
              "      <td>0</td>\n",
              "      <td>0</td>\n",
              "      <td>0</td>\n",
              "      <td>628</td>\n",
              "      <td>1</td>\n",
              "      <td>0</td>\n",
              "      <td>1</td>\n",
              "      <td>0</td>\n",
              "      <td>0</td>\n",
              "      <td>0</td>\n",
              "      <td>1</td>\n",
              "      <td>0</td>\n",
              "      <td>0</td>\n",
              "      <td>0.000010</td>\n",
              "    </tr>\n",
              "  </tbody>\n",
              "</table>\n",
              "<p>11162 rows × 18 columns</p>\n",
              "</div>"
            ],
            "text/plain": [
              "       age  marital  education  default  balance  housing  loan  duration  \\\n",
              "0       59        1          1        0     2343        1     0      1042   \n",
              "1       56        1          1        0       45        0     0      1467   \n",
              "2       41        1          1        0     1270        1     0      1389   \n",
              "3       55        1          1        0     2476        1     0       579   \n",
              "4       54        1          2        0      184        0     0       673   \n",
              "...    ...      ...        ...      ...      ...      ...   ...       ...   \n",
              "11157   33        2          0        0        1        1     0       257   \n",
              "11158   39        1          1        0      733        0     0        83   \n",
              "11159   32        2          1        0       29        0     0       156   \n",
              "11160   43        1          1        0        0        0     1         9   \n",
              "11161   34        1          1        0        0        0     0       628   \n",
              "\n",
              "       campaign  previous  poutcome  deposit  job_blue-collar  job_management  \\\n",
              "0             1         0         1        1                0               0   \n",
              "1             1         0         1        1                0               0   \n",
              "2             1         0         1        1                0               0   \n",
              "3             1         0         1        1                0               0   \n",
              "4             2         0         1        1                0               0   \n",
              "...         ...       ...       ...      ...              ...             ...   \n",
              "11157         1         0         1        0                1               0   \n",
              "11158         4         0         1        0                0               0   \n",
              "11159         2         0         1        0                0               0   \n",
              "11160         2         5         0        0                0               0   \n",
              "11161         1         0         1        0                0               0   \n",
              "\n",
              "       job_pink-collar  job_retired  job_small-business  scaled_pdays  \n",
              "0                    1            0                   0      0.000010  \n",
              "1                    1            0                   0      0.000010  \n",
              "2                    1            0                   0      0.000010  \n",
              "3                    1            0                   0      0.000010  \n",
              "4                    1            0                   0      0.000010  \n",
              "...                ...          ...                 ...           ...  \n",
              "11157                0            0                   0      0.000010  \n",
              "11158                1            0                   0      0.000010  \n",
              "11159                1            0                   0      0.000010  \n",
              "11160                1            0                   0      0.005814  \n",
              "11161                1            0                   0      0.000010  \n",
              "\n",
              "[11162 rows x 18 columns]"
            ]
          },
          "execution_count": 66,
          "metadata": {},
          "output_type": "execute_result"
        }
      ],
      "source": [
        "df"
      ]
    },
    {
      "cell_type": "markdown",
      "id": "44da31b4-809a-4dd5-9649-fbdbc8c01131",
      "metadata": {
        "id": "44da31b4-809a-4dd5-9649-fbdbc8c01131"
      },
      "source": [
        "## Train-test split"
      ]
    },
    {
      "cell_type": "code",
      "execution_count": null,
      "id": "a4839560-f375-4b81-90a0-f7b58f10e7cc",
      "metadata": {
        "id": "a4839560-f375-4b81-90a0-f7b58f10e7cc"
      },
      "outputs": [],
      "source": [
        "# Split features and target\n",
        "\n",
        "X = df.drop(columns = 'deposit')\n",
        "y = df.deposit"
      ]
    },
    {
      "cell_type": "code",
      "execution_count": null,
      "id": "3380127d-9b89-4139-a1a3-bc10b690357a",
      "metadata": {
        "id": "3380127d-9b89-4139-a1a3-bc10b690357a",
        "outputId": "307b46bf-4b59-4503-fa31-a7a29d1d3361"
      },
      "outputs": [
        {
          "data": {
            "text/html": [
              "<div>\n",
              "<style scoped>\n",
              "    .dataframe tbody tr th:only-of-type {\n",
              "        vertical-align: middle;\n",
              "    }\n",
              "\n",
              "    .dataframe tbody tr th {\n",
              "        vertical-align: top;\n",
              "    }\n",
              "\n",
              "    .dataframe thead th {\n",
              "        text-align: right;\n",
              "    }\n",
              "</style>\n",
              "<table border=\"1\" class=\"dataframe\">\n",
              "  <thead>\n",
              "    <tr style=\"text-align: right;\">\n",
              "      <th></th>\n",
              "      <th>age</th>\n",
              "      <th>marital</th>\n",
              "      <th>education</th>\n",
              "      <th>default</th>\n",
              "      <th>balance</th>\n",
              "      <th>housing</th>\n",
              "      <th>loan</th>\n",
              "      <th>duration</th>\n",
              "      <th>campaign</th>\n",
              "      <th>previous</th>\n",
              "      <th>poutcome</th>\n",
              "      <th>job_blue-collar</th>\n",
              "      <th>job_management</th>\n",
              "      <th>job_pink-collar</th>\n",
              "      <th>job_retired</th>\n",
              "      <th>job_small-business</th>\n",
              "      <th>scaled_pdays</th>\n",
              "    </tr>\n",
              "  </thead>\n",
              "  <tbody>\n",
              "    <tr>\n",
              "      <th>0</th>\n",
              "      <td>59</td>\n",
              "      <td>1</td>\n",
              "      <td>1</td>\n",
              "      <td>0</td>\n",
              "      <td>2343</td>\n",
              "      <td>1</td>\n",
              "      <td>0</td>\n",
              "      <td>1042</td>\n",
              "      <td>1</td>\n",
              "      <td>0</td>\n",
              "      <td>1</td>\n",
              "      <td>0</td>\n",
              "      <td>0</td>\n",
              "      <td>1</td>\n",
              "      <td>0</td>\n",
              "      <td>0</td>\n",
              "      <td>0.000010</td>\n",
              "    </tr>\n",
              "    <tr>\n",
              "      <th>1</th>\n",
              "      <td>56</td>\n",
              "      <td>1</td>\n",
              "      <td>1</td>\n",
              "      <td>0</td>\n",
              "      <td>45</td>\n",
              "      <td>0</td>\n",
              "      <td>0</td>\n",
              "      <td>1467</td>\n",
              "      <td>1</td>\n",
              "      <td>0</td>\n",
              "      <td>1</td>\n",
              "      <td>0</td>\n",
              "      <td>0</td>\n",
              "      <td>1</td>\n",
              "      <td>0</td>\n",
              "      <td>0</td>\n",
              "      <td>0.000010</td>\n",
              "    </tr>\n",
              "    <tr>\n",
              "      <th>2</th>\n",
              "      <td>41</td>\n",
              "      <td>1</td>\n",
              "      <td>1</td>\n",
              "      <td>0</td>\n",
              "      <td>1270</td>\n",
              "      <td>1</td>\n",
              "      <td>0</td>\n",
              "      <td>1389</td>\n",
              "      <td>1</td>\n",
              "      <td>0</td>\n",
              "      <td>1</td>\n",
              "      <td>0</td>\n",
              "      <td>0</td>\n",
              "      <td>1</td>\n",
              "      <td>0</td>\n",
              "      <td>0</td>\n",
              "      <td>0.000010</td>\n",
              "    </tr>\n",
              "    <tr>\n",
              "      <th>3</th>\n",
              "      <td>55</td>\n",
              "      <td>1</td>\n",
              "      <td>1</td>\n",
              "      <td>0</td>\n",
              "      <td>2476</td>\n",
              "      <td>1</td>\n",
              "      <td>0</td>\n",
              "      <td>579</td>\n",
              "      <td>1</td>\n",
              "      <td>0</td>\n",
              "      <td>1</td>\n",
              "      <td>0</td>\n",
              "      <td>0</td>\n",
              "      <td>1</td>\n",
              "      <td>0</td>\n",
              "      <td>0</td>\n",
              "      <td>0.000010</td>\n",
              "    </tr>\n",
              "    <tr>\n",
              "      <th>4</th>\n",
              "      <td>54</td>\n",
              "      <td>1</td>\n",
              "      <td>2</td>\n",
              "      <td>0</td>\n",
              "      <td>184</td>\n",
              "      <td>0</td>\n",
              "      <td>0</td>\n",
              "      <td>673</td>\n",
              "      <td>2</td>\n",
              "      <td>0</td>\n",
              "      <td>1</td>\n",
              "      <td>0</td>\n",
              "      <td>0</td>\n",
              "      <td>1</td>\n",
              "      <td>0</td>\n",
              "      <td>0</td>\n",
              "      <td>0.000010</td>\n",
              "    </tr>\n",
              "    <tr>\n",
              "      <th>...</th>\n",
              "      <td>...</td>\n",
              "      <td>...</td>\n",
              "      <td>...</td>\n",
              "      <td>...</td>\n",
              "      <td>...</td>\n",
              "      <td>...</td>\n",
              "      <td>...</td>\n",
              "      <td>...</td>\n",
              "      <td>...</td>\n",
              "      <td>...</td>\n",
              "      <td>...</td>\n",
              "      <td>...</td>\n",
              "      <td>...</td>\n",
              "      <td>...</td>\n",
              "      <td>...</td>\n",
              "      <td>...</td>\n",
              "      <td>...</td>\n",
              "    </tr>\n",
              "    <tr>\n",
              "      <th>11157</th>\n",
              "      <td>33</td>\n",
              "      <td>2</td>\n",
              "      <td>0</td>\n",
              "      <td>0</td>\n",
              "      <td>1</td>\n",
              "      <td>1</td>\n",
              "      <td>0</td>\n",
              "      <td>257</td>\n",
              "      <td>1</td>\n",
              "      <td>0</td>\n",
              "      <td>1</td>\n",
              "      <td>1</td>\n",
              "      <td>0</td>\n",
              "      <td>0</td>\n",
              "      <td>0</td>\n",
              "      <td>0</td>\n",
              "      <td>0.000010</td>\n",
              "    </tr>\n",
              "    <tr>\n",
              "      <th>11158</th>\n",
              "      <td>39</td>\n",
              "      <td>1</td>\n",
              "      <td>1</td>\n",
              "      <td>0</td>\n",
              "      <td>733</td>\n",
              "      <td>0</td>\n",
              "      <td>0</td>\n",
              "      <td>83</td>\n",
              "      <td>4</td>\n",
              "      <td>0</td>\n",
              "      <td>1</td>\n",
              "      <td>0</td>\n",
              "      <td>0</td>\n",
              "      <td>1</td>\n",
              "      <td>0</td>\n",
              "      <td>0</td>\n",
              "      <td>0.000010</td>\n",
              "    </tr>\n",
              "    <tr>\n",
              "      <th>11159</th>\n",
              "      <td>32</td>\n",
              "      <td>2</td>\n",
              "      <td>1</td>\n",
              "      <td>0</td>\n",
              "      <td>29</td>\n",
              "      <td>0</td>\n",
              "      <td>0</td>\n",
              "      <td>156</td>\n",
              "      <td>2</td>\n",
              "      <td>0</td>\n",
              "      <td>1</td>\n",
              "      <td>0</td>\n",
              "      <td>0</td>\n",
              "      <td>1</td>\n",
              "      <td>0</td>\n",
              "      <td>0</td>\n",
              "      <td>0.000010</td>\n",
              "    </tr>\n",
              "    <tr>\n",
              "      <th>11160</th>\n",
              "      <td>43</td>\n",
              "      <td>1</td>\n",
              "      <td>1</td>\n",
              "      <td>0</td>\n",
              "      <td>0</td>\n",
              "      <td>0</td>\n",
              "      <td>1</td>\n",
              "      <td>9</td>\n",
              "      <td>2</td>\n",
              "      <td>5</td>\n",
              "      <td>0</td>\n",
              "      <td>0</td>\n",
              "      <td>0</td>\n",
              "      <td>1</td>\n",
              "      <td>0</td>\n",
              "      <td>0</td>\n",
              "      <td>0.005814</td>\n",
              "    </tr>\n",
              "    <tr>\n",
              "      <th>11161</th>\n",
              "      <td>34</td>\n",
              "      <td>1</td>\n",
              "      <td>1</td>\n",
              "      <td>0</td>\n",
              "      <td>0</td>\n",
              "      <td>0</td>\n",
              "      <td>0</td>\n",
              "      <td>628</td>\n",
              "      <td>1</td>\n",
              "      <td>0</td>\n",
              "      <td>1</td>\n",
              "      <td>0</td>\n",
              "      <td>0</td>\n",
              "      <td>1</td>\n",
              "      <td>0</td>\n",
              "      <td>0</td>\n",
              "      <td>0.000010</td>\n",
              "    </tr>\n",
              "  </tbody>\n",
              "</table>\n",
              "<p>11162 rows × 17 columns</p>\n",
              "</div>"
            ],
            "text/plain": [
              "       age  marital  education  default  balance  housing  loan  duration  \\\n",
              "0       59        1          1        0     2343        1     0      1042   \n",
              "1       56        1          1        0       45        0     0      1467   \n",
              "2       41        1          1        0     1270        1     0      1389   \n",
              "3       55        1          1        0     2476        1     0       579   \n",
              "4       54        1          2        0      184        0     0       673   \n",
              "...    ...      ...        ...      ...      ...      ...   ...       ...   \n",
              "11157   33        2          0        0        1        1     0       257   \n",
              "11158   39        1          1        0      733        0     0        83   \n",
              "11159   32        2          1        0       29        0     0       156   \n",
              "11160   43        1          1        0        0        0     1         9   \n",
              "11161   34        1          1        0        0        0     0       628   \n",
              "\n",
              "       campaign  previous  poutcome  job_blue-collar  job_management  \\\n",
              "0             1         0         1                0               0   \n",
              "1             1         0         1                0               0   \n",
              "2             1         0         1                0               0   \n",
              "3             1         0         1                0               0   \n",
              "4             2         0         1                0               0   \n",
              "...         ...       ...       ...              ...             ...   \n",
              "11157         1         0         1                1               0   \n",
              "11158         4         0         1                0               0   \n",
              "11159         2         0         1                0               0   \n",
              "11160         2         5         0                0               0   \n",
              "11161         1         0         1                0               0   \n",
              "\n",
              "       job_pink-collar  job_retired  job_small-business  scaled_pdays  \n",
              "0                    1            0                   0      0.000010  \n",
              "1                    1            0                   0      0.000010  \n",
              "2                    1            0                   0      0.000010  \n",
              "3                    1            0                   0      0.000010  \n",
              "4                    1            0                   0      0.000010  \n",
              "...                ...          ...                 ...           ...  \n",
              "11157                0            0                   0      0.000010  \n",
              "11158                1            0                   0      0.000010  \n",
              "11159                1            0                   0      0.000010  \n",
              "11160                1            0                   0      0.005814  \n",
              "11161                1            0                   0      0.000010  \n",
              "\n",
              "[11162 rows x 17 columns]"
            ]
          },
          "execution_count": 68,
          "metadata": {},
          "output_type": "execute_result"
        }
      ],
      "source": [
        "X"
      ]
    },
    {
      "cell_type": "code",
      "execution_count": null,
      "id": "629453be-5dd2-417c-ae90-7e23d5c925e2",
      "metadata": {
        "id": "629453be-5dd2-417c-ae90-7e23d5c925e2",
        "outputId": "44993c69-ce3e-47e7-daa8-299b2f6aa9bb"
      },
      "outputs": [
        {
          "data": {
            "text/plain": [
              "0        1\n",
              "1        1\n",
              "2        1\n",
              "3        1\n",
              "4        1\n",
              "        ..\n",
              "11157    0\n",
              "11158    0\n",
              "11159    0\n",
              "11160    0\n",
              "11161    0\n",
              "Name: deposit, Length: 11162, dtype: int32"
            ]
          },
          "execution_count": 69,
          "metadata": {},
          "output_type": "execute_result"
        }
      ],
      "source": [
        "y"
      ]
    },
    {
      "cell_type": "markdown",
      "id": "416f3635-1d7d-40f9-8bb1-f9b30d1fbcd0",
      "metadata": {
        "id": "416f3635-1d7d-40f9-8bb1-f9b30d1fbcd0"
      },
      "source": [
        "## Standardization / scaling numerical features"
      ]
    },
    {
      "cell_type": "code",
      "execution_count": null,
      "id": "cceb7369-461e-4478-af6a-1a1c47f25341",
      "metadata": {
        "id": "cceb7369-461e-4478-af6a-1a1c47f25341"
      },
      "outputs": [],
      "source": [
        "sc = StandardScaler()\n",
        "X = sc.fit_transform(X)\n"
      ]
    },
    {
      "cell_type": "code",
      "execution_count": null,
      "id": "f562a959-a432-4667-9e7d-82d3619e3e5a",
      "metadata": {
        "id": "f562a959-a432-4667-9e7d-82d3619e3e5a",
        "outputId": "cf41c316-d229-4685-fd3e-1a251b1cd505"
      },
      "outputs": [
        {
          "data": {
            "text/plain": [
              "array([[ 1.49150488, -0.31867191, -0.35812526, ..., -0.27372058,\n",
              "        -0.26511277, -0.09927568],\n",
              "       [ 1.23967567, -0.31867191, -0.35812526, ..., -0.27372058,\n",
              "        -0.26511277, -0.09927568],\n",
              "       [-0.0194704 , -0.31867191, -0.35812526, ..., -0.27372058,\n",
              "        -0.26511277, -0.09927568],\n",
              "       ...,\n",
              "       [-0.77495804,  1.27998692, -0.35812526, ..., -0.27372058,\n",
              "        -0.26511277, -0.09927568],\n",
              "       [ 0.14841574, -0.31867191, -0.35812526, ..., -0.27372058,\n",
              "        -0.26511277,  0.08983023],\n",
              "       [-0.6070719 , -0.31867191, -0.35812526, ..., -0.27372058,\n",
              "        -0.26511277, -0.09927568]])"
            ]
          },
          "execution_count": 71,
          "metadata": {},
          "output_type": "execute_result"
        }
      ],
      "source": [
        "X"
      ]
    },
    {
      "cell_type": "code",
      "execution_count": null,
      "id": "dfa81c25-c74a-4bec-bb2c-b7912a0b1acb",
      "metadata": {
        "id": "dfa81c25-c74a-4bec-bb2c-b7912a0b1acb"
      },
      "outputs": [],
      "source": [
        "# Train - Test split ( 80 - 20 %)\n",
        "X_train, X_test, y_train, y_test = train_test_split(X, y, test_size = 0.2, random_state = 42)"
      ]
    },
    {
      "cell_type": "code",
      "execution_count": null,
      "id": "826ab68b-23fe-4e08-897c-924873da58dd",
      "metadata": {
        "id": "826ab68b-23fe-4e08-897c-924873da58dd",
        "outputId": "4f8946da-2060-4e38-dfae-660f1c726271"
      },
      "outputs": [
        {
          "data": {
            "text/plain": [
              "((8929, 17), (2233, 17), (8929,), (2233,))"
            ]
          },
          "execution_count": 73,
          "metadata": {},
          "output_type": "execute_result"
        }
      ],
      "source": [
        "X_train.shape, X_test.shape, y_train.shape, y_test.shape"
      ]
    },
    {
      "cell_type": "markdown",
      "id": "64503aaa-73d6-4e13-a4b4-361a91faed7e",
      "metadata": {
        "id": "64503aaa-73d6-4e13-a4b4-361a91faed7e"
      },
      "source": [
        "# Importing Libraries for model building and evaluation\n",
        "\n",
        "## Fit models and evaluate the metrices to compare and find the best options\n",
        "\n",
        "## Comparing multiple models by iterating through the loop"
      ]
    },
    {
      "cell_type": "code",
      "execution_count": null,
      "id": "e1e6e36b-312e-443f-a4ef-a9b291eba5c0",
      "metadata": {
        "id": "e1e6e36b-312e-443f-a4ef-a9b291eba5c0"
      },
      "outputs": [],
      "source": [
        "from sklearn.linear_model import LogisticRegression\n",
        "from sklearn.tree import DecisionTreeClassifier\n",
        "from sklearn.ensemble import RandomForestClassifier\n",
        "from sklearn.svm import SVC\n",
        "from sklearn.naive_bayes import GaussianNB\n",
        "\n",
        "from sklearn.neighbors import KNeighborsClassifier\n",
        "from xgboost import XGBClassifier\n",
        "from sklearn.ensemble import GradientBoostingClassifier"
      ]
    },
    {
      "cell_type": "code",
      "execution_count": null,
      "id": "c41b8e54-1f96-4317-90d3-65db05e43dde",
      "metadata": {
        "id": "c41b8e54-1f96-4317-90d3-65db05e43dde"
      },
      "outputs": [],
      "source": [
        "models = []  #  Empty list to store the models\n",
        "\n",
        "models.append(('Logistic Regression', LogisticRegression(random_state = 42)))\n",
        "models.append(('CART', DecisionTreeClassifier(random_state = 42)))\n",
        "models.append(('Random Forest', RandomForestClassifier(random_state = 42)))\n",
        "models.append(('SVM', SVC(gamma = 'auto', random_state = 42)))\n",
        "models.append(('Naive Bayes', GaussianNB()))  # GaussianNB doesn't have random_state parameter\n",
        "models.append(('K Neighbors', KNeighborsClassifier()))  # K Neighbors doesn't have random_state parameter\n",
        "models.append(('XG Boost', XGBClassifier(random_state = 42)))\n",
        "models.append(('Gradient Boost', GradientBoostingClassifier(random_state = 42)))\n",
        "\n",
        "results = []  # Stores evaluation metrics\n",
        "name = []  # Stores names of the models"
      ]
    },
    {
      "cell_type": "markdown",
      "id": "ce8b4cfe-fa5c-42bc-8f2f-9d6eacb2690f",
      "metadata": {
        "id": "ce8b4cfe-fa5c-42bc-8f2f-9d6eacb2690f"
      },
      "source": [
        "## Calculating the Accuracy score for all models"
      ]
    },
    {
      "cell_type": "code",
      "execution_count": null,
      "id": "6c683ab7-2248-4438-8f82-99b5dbe9cac7",
      "metadata": {
        "id": "6c683ab7-2248-4438-8f82-99b5dbe9cac7",
        "outputId": "cdb5639f-7b59-484b-da09-3fbfa45f8b50"
      },
      "outputs": [
        {
          "name": "stdout",
          "output_type": "stream",
          "text": [
            "Accuracy_Logistic Regression : 0.7778772951186744\n",
            "Accuracy_CART : 0.7501119570085087\n",
            "Accuracy_Random Forest : 0.8011643528884909\n",
            "Accuracy_SVM : 0.8047469771607703\n",
            "Accuracy_Naive Bayes : 0.7442901925660547\n",
            "Accuracy_K Neighbors : 0.7653381101656964\n"
          ]
        },
        {
          "name": "stderr",
          "output_type": "stream",
          "text": [
            "C:\\Users\\satti\\anaconda3\\Lib\\site-packages\\xgboost\\data.py:440: FutureWarning: is_sparse is deprecated and will be removed in a future version. Check `isinstance(dtype, pd.SparseDtype)` instead.\n",
            "  if is_sparse(data):\n"
          ]
        },
        {
          "name": "stdout",
          "output_type": "stream",
          "text": [
            "Accuracy_XG Boost : 0.8016121809225257\n",
            "Accuracy_Gradient Boost : 0.8042991491267353\n"
          ]
        }
      ],
      "source": [
        "# Fit all the models and calculate the accuracy score  in a for loop\n",
        "# Predicting the accuracy score before actually building the model.\n",
        "# Early predictions will help us to decide the best model to choose\n",
        "\n",
        "for name, model in models:\n",
        "    model.fit(X_train, y_train)\n",
        "    y_pred = model.predict(X_test)  # prediction done using the X test data\n",
        "    accuracy = accuracy_score(y_test, y_pred)\n",
        "    print(\"Accuracy_{} : {}\".format(name, accuracy))"
      ]
    },
    {
      "cell_type": "markdown",
      "id": "e57e542a-e35d-4c39-aa15-598fa6628bf8",
      "metadata": {
        "id": "e57e542a-e35d-4c39-aa15-598fa6628bf8"
      },
      "source": [
        "## Calculating the precision score for all models"
      ]
    },
    {
      "cell_type": "code",
      "execution_count": null,
      "id": "5daa1813-e697-476d-bf1a-c113c4b76097",
      "metadata": {
        "id": "5daa1813-e697-476d-bf1a-c113c4b76097",
        "outputId": "6e4ecd2f-4f65-47b6-850a-5828f7e58aa6"
      },
      "outputs": [
        {
          "name": "stdout",
          "output_type": "stream",
          "text": [
            "Precision_Logistic Regression : 0.7366447985004686\n",
            "Precision_CART : 0.7403936269915652\n",
            "Precision_Random Forest : 0.8134957825679475\n",
            "Precision_SVM : 0.8106841611996252\n",
            "Precision_Naive Bayes : 0.6504217432052484\n",
            "Precision_K Neighbors : 0.7385192127460168\n"
          ]
        },
        {
          "name": "stderr",
          "output_type": "stream",
          "text": [
            "C:\\Users\\satti\\anaconda3\\Lib\\site-packages\\xgboost\\data.py:440: FutureWarning: is_sparse is deprecated and will be removed in a future version. Check `isinstance(dtype, pd.SparseDtype)` instead.\n",
            "  if is_sparse(data):\n"
          ]
        },
        {
          "name": "stdout",
          "output_type": "stream",
          "text": [
            "Precision_XG Boost : 0.8163074039362699\n",
            "Precision_Gradient Boost : 0.8088097469540768\n"
          ]
        }
      ],
      "source": [
        "for name, model in models:\n",
        "    model.fit(X_train, y_train)\n",
        "    y_pred = model.predict(X_test)\n",
        "    precision = precision_score(y_pred, y_test)\n",
        "    print(\"Precision_{} : {}\".format(name, precision))"
      ]
    },
    {
      "cell_type": "markdown",
      "id": "88eac959-9843-4961-8240-b52b8e952176",
      "metadata": {
        "id": "88eac959-9843-4961-8240-b52b8e952176"
      },
      "source": [
        "## Calculating the recall score for all models"
      ]
    },
    {
      "cell_type": "code",
      "execution_count": null,
      "id": "6ba44998-f3a5-409c-94ae-d70ef203e8aa",
      "metadata": {
        "id": "6ba44998-f3a5-409c-94ae-d70ef203e8aa",
        "outputId": "b4eede19-9d48-43b9-ab87-57545e2c648f"
      },
      "outputs": [
        {
          "name": "stdout",
          "output_type": "stream",
          "text": [
            "Recall_Logistic Regression : 0.7852147852147852\n",
            "Recall_CART : 0.7376283846872083\n",
            "Recall_Random Forest : 0.779874213836478\n",
            "Recall_SVM : 0.7870791628753412\n",
            "Recall_Naive Bayes : 0.7780269058295964\n",
            "Recall_K Neighbors : 0.7628267182962246\n"
          ]
        },
        {
          "name": "stderr",
          "output_type": "stream",
          "text": [
            "C:\\Users\\satti\\anaconda3\\Lib\\site-packages\\xgboost\\data.py:440: FutureWarning: is_sparse is deprecated and will be removed in a future version. Check `isinstance(dtype, pd.SparseDtype)` instead.\n",
            "  if is_sparse(data):\n"
          ]
        },
        {
          "name": "stdout",
          "output_type": "stream",
          "text": [
            "Recall_XG Boost : 0.7790697674418605\n",
            "Recall_Gradient Boost : 0.7874087591240876\n"
          ]
        }
      ],
      "source": [
        "for name, model in models:\n",
        "    model.fit(X_train, y_train)\n",
        "    y_pred = model.predict(X_test)\n",
        "    recall = recall_score(y_pred, y_test)\n",
        "    print(\"Recall_{} : {}\".format(name, recall))"
      ]
    },
    {
      "cell_type": "markdown",
      "id": "6a8f1286-ffbc-4da2-a649-aa5b71ea178e",
      "metadata": {
        "id": "6a8f1286-ffbc-4da2-a649-aa5b71ea178e"
      },
      "source": [
        "## Calculating the f1 score for all models"
      ]
    },
    {
      "cell_type": "code",
      "execution_count": null,
      "id": "f979ad7c-6c2b-4720-88d8-8a418191f923",
      "metadata": {
        "id": "f979ad7c-6c2b-4720-88d8-8a418191f923",
        "outputId": "f78b0355-fdfe-4bee-fe60-119c698ad282"
      },
      "outputs": [
        {
          "name": "stdout",
          "output_type": "stream",
          "text": [
            "F1_Logistic Regression ; 0.7601547388781431\n",
            "F1_CART ; 0.7390084190832554\n",
            "F1_Random Forest ; 0.7963302752293578\n",
            "F1_SVM ; 0.7987072945521699\n",
            "F1_Naive Bayes ; 0.7085247575293517\n",
            "F1_K Neighbors ; 0.7504761904761905\n"
          ]
        },
        {
          "name": "stderr",
          "output_type": "stream",
          "text": [
            "C:\\Users\\satti\\anaconda3\\Lib\\site-packages\\xgboost\\data.py:440: FutureWarning: is_sparse is deprecated and will be removed in a future version. Check `isinstance(dtype, pd.SparseDtype)` instead.\n",
            "  if is_sparse(data):\n"
          ]
        },
        {
          "name": "stdout",
          "output_type": "stream",
          "text": [
            "F1_XG Boost ; 0.7972540045766591\n",
            "F1_Gradient Boost ; 0.7979657882570504\n"
          ]
        }
      ],
      "source": [
        "for name, model in models:\n",
        "    model.fit(X_train, y_train)\n",
        "    y_pred = model.predict(X_test)\n",
        "    f1 = f1_score(y_pred, y_test)\n",
        "    print(\"F1_{} ; {}\".format(name, f1))"
      ]
    },
    {
      "cell_type": "markdown",
      "id": "35a7feb5-d0f9-4062-a98f-308755de3416",
      "metadata": {
        "id": "35a7feb5-d0f9-4062-a98f-308755de3416"
      },
      "source": [
        "## Calculating the confusion matrix for all models"
      ]
    },
    {
      "cell_type": "code",
      "execution_count": null,
      "id": "6c80b42c-a626-42eb-9680-f4249aaf46c4",
      "metadata": {
        "id": "6c80b42c-a626-42eb-9680-f4249aaf46c4",
        "outputId": "f2fa8853-3445-4197-ba5d-81db15c53d0d"
      },
      "outputs": [
        {
          "name": "stdout",
          "output_type": "stream",
          "text": [
            "Conf_Matrix_Logistic Regression : \n",
            "[[951 281]\n",
            " [215 786]]\n",
            "    \n",
            "Conf_Matrix_CART : \n",
            "[[885 277]\n",
            " [281 790]]\n",
            "    \n",
            "Conf_Matrix_Random Forest : \n",
            "[[921 199]\n",
            " [245 868]]\n",
            "    \n",
            "Conf_Matrix_SVM : \n",
            "[[932 202]\n",
            " [234 865]]\n",
            "    \n",
            "Conf_Matrix_Naive Bayes : \n",
            "[[968 373]\n",
            " [198 694]]\n",
            "    \n",
            "Conf_Matrix_K Neighbors : \n",
            "[[921 279]\n",
            " [245 788]]\n",
            "    \n"
          ]
        },
        {
          "name": "stderr",
          "output_type": "stream",
          "text": [
            "C:\\Users\\satti\\anaconda3\\Lib\\site-packages\\xgboost\\data.py:440: FutureWarning: is_sparse is deprecated and will be removed in a future version. Check `isinstance(dtype, pd.SparseDtype)` instead.\n",
            "  if is_sparse(data):\n"
          ]
        },
        {
          "name": "stdout",
          "output_type": "stream",
          "text": [
            "Conf_Matrix_XG Boost : \n",
            "[[919 196]\n",
            " [247 871]]\n",
            "    \n",
            "Conf_Matrix_Gradient Boost : \n",
            "[[933 204]\n",
            " [233 863]]\n",
            "    \n"
          ]
        }
      ],
      "source": [
        "for name, model in models:\n",
        "    model.fit(X_train, y_train)\n",
        "    y_pred = model.predict(X_test)\n",
        "    confusion = confusion_matrix(y_pred, y_test)\n",
        "    print(\"Conf_Matrix_{} : \".format(name))\n",
        "    print(\"{}\".format(confusion))\n",
        "    print(\"    \")"
      ]
    },
    {
      "cell_type": "markdown",
      "id": "a5d2c918-edc3-4144-9a9c-3b5def18345d",
      "metadata": {
        "id": "a5d2c918-edc3-4144-9a9c-3b5def18345d"
      },
      "source": [
        "# Key Insights"
      ]
    },
    {
      "cell_type": "code",
      "execution_count": null,
      "id": "63c53bd5-81c3-43b2-9473-30cae737ba3c",
      "metadata": {
        "id": "63c53bd5-81c3-43b2-9473-30cae737ba3c"
      },
      "outputs": [],
      "source": [
        "# Compare the metrics (accuracy, precision, recall, f1 scores and confusion matrix) for all models\n",
        "# Random Forest model looks best performing.\n"
      ]
    },
    {
      "cell_type": "markdown",
      "id": "b9f8dc8e-537a-4551-88ce-182cfcea91d5",
      "metadata": {
        "id": "b9f8dc8e-537a-4551-88ce-182cfcea91d5"
      },
      "source": [
        "## Implementing Random Forst Model"
      ]
    },
    {
      "cell_type": "code",
      "execution_count": null,
      "id": "17f96441-fc82-402f-b66e-f2f3863572ca",
      "metadata": {
        "id": "17f96441-fc82-402f-b66e-f2f3863572ca",
        "outputId": "c17a0eaa-73fc-47a6-9c2a-104e62e3760b"
      },
      "outputs": [
        {
          "name": "stdout",
          "output_type": "stream",
          "text": [
            "Train Score is 1.0\n",
            "Test Score is 0.8029556650246306\n"
          ]
        }
      ],
      "source": [
        "rf = RandomForestClassifier(n_estimators = 200, random_state = 42)\n",
        "\n",
        "rf.fit(X_train, y_train)\n",
        "y_pred = rf.predict(X_test)\n",
        "\n",
        "\n",
        "# Check the accuracy of model on training data\n",
        "\n",
        "train_score = rf.score(X_train, y_train)\n",
        "\n",
        "# Check the accuracy of the model on test data\n",
        "\n",
        "test_score = rf.score(X_test, y_test)\n",
        "\n",
        "print(\"Train Score is {}\".format(train_score))\n",
        "print(\"Test Score is {}\".format(test_score))\n"
      ]
    },
    {
      "cell_type": "code",
      "execution_count": null,
      "id": "b1a4b5ea-c5b1-4974-a797-c81bef751179",
      "metadata": {
        "id": "b1a4b5ea-c5b1-4974-a797-c81bef751179"
      },
      "outputs": [],
      "source": [
        "# Train Score is significantly higher than Test Score -- Overfitting model.\n",
        "# Model needs to be retuned by lowering n_estimators."
      ]
    },
    {
      "cell_type": "code",
      "execution_count": null,
      "id": "15000641-fd99-4056-ab13-fd8d12552242",
      "metadata": {
        "id": "15000641-fd99-4056-ab13-fd8d12552242",
        "outputId": "254a0956-4083-44c3-ef23-ccc03907f274"
      },
      "outputs": [
        {
          "name": "stdout",
          "output_type": "stream",
          "text": [
            "Train Score is 1.0\n",
            "Test Score is 0.799373040752351\n"
          ]
        }
      ],
      "source": [
        "rf1 = RandomForestClassifier(n_estimators = 100, random_state =40)\n",
        "rf1.fit(X_train, y_train)\n",
        "y_pred = rf1.predict(X_test)\n",
        "\n",
        "train_score = rf1.score(X_train, y_train)\n",
        "\n",
        "test_score = rf1.score(X_test, y_test)\n",
        "\n",
        "print(\"Train Score is {}\".format(train_score))\n",
        "print(\"Test Score is {}\".format(test_score))\n"
      ]
    },
    {
      "cell_type": "code",
      "execution_count": null,
      "id": "04ae2c5e-d211-4261-babf-2a4cf458872a",
      "metadata": {
        "id": "04ae2c5e-d211-4261-babf-2a4cf458872a",
        "outputId": "1bcc9d85-0243-4709-8832-6b8bb440cdb6"
      },
      "outputs": [
        {
          "name": "stdout",
          "output_type": "stream",
          "text": [
            "Train Score is 0.9995520215029678\n",
            "Test Score is 0.7975817286162113\n"
          ]
        }
      ],
      "source": [
        "# Reduce n_estimators further to improve model tuning.\n",
        "\n",
        "rf1 = RandomForestClassifier(n_estimators = 50, random_state =40)\n",
        "rf1.fit(X_train, y_train)\n",
        "y_pred = rf1.predict(X_test)\n",
        "\n",
        "train_score = rf1.score(X_train, y_train)\n",
        "\n",
        "test_score = rf1.score(X_test, y_test)\n",
        "\n",
        "print(\"Train Score is {}\".format(train_score))\n",
        "print(\"Test Score is {}\".format(test_score))\n"
      ]
    },
    {
      "cell_type": "code",
      "execution_count": null,
      "id": "e55bc31c-fc78-4087-9d66-9a3f7c1f05c9",
      "metadata": {
        "id": "e55bc31c-fc78-4087-9d66-9a3f7c1f05c9",
        "outputId": "b1c4c38c-e61d-4ed8-b466-94567444c872"
      },
      "outputs": [
        {
          "name": "stdout",
          "output_type": "stream",
          "text": [
            "Train Score is 0.9978721021390973\n",
            "Test Score is 0.7984773846842812\n"
          ]
        }
      ],
      "source": [
        "# Reduce n_estimators further to improve model tuning.\n",
        "\n",
        "rf1 = RandomForestClassifier(n_estimators = 25, random_state =40)\n",
        "rf1.fit(X_train, y_train)\n",
        "y_pred = rf1.predict(X_test)\n",
        "\n",
        "train_score = rf1.score(X_train, y_train)\n",
        "\n",
        "test_score = rf1.score(X_test, y_test)\n",
        "\n",
        "print(\"Train Score is {}\".format(train_score))\n",
        "print(\"Test Score is {}\".format(test_score))\n"
      ]
    },
    {
      "cell_type": "markdown",
      "id": "defbb34d-c522-4c79-b38b-e9da9aa83cb6",
      "metadata": {
        "id": "defbb34d-c522-4c79-b38b-e9da9aa83cb6"
      },
      "source": [
        "# Model is still over fitted.\n",
        "\n",
        "## Use hyper parameter tuning\n",
        "## Use Cross Validation"
      ]
    },
    {
      "cell_type": "code",
      "execution_count": null,
      "id": "c4e800b9-a5b7-4f81-b589-bf17e544b4f8",
      "metadata": {
        "id": "c4e800b9-a5b7-4f81-b589-bf17e544b4f8",
        "outputId": "79cda9e9-3797-42e0-af51-2017c1a93c50"
      },
      "outputs": [
        {
          "data": {
            "text/plain": [
              "0.811289350654568"
            ]
          },
          "execution_count": 87,
          "metadata": {},
          "output_type": "execute_result"
        }
      ],
      "source": [
        "from sklearn.model_selection import cross_val_score\n",
        "\n",
        "rf1_crossval_train = cross_val_score(estimator = rf1, X = X_train, y = y_train, cv = 10)\n",
        "\n",
        "rf1_crossval_train.mean()"
      ]
    },
    {
      "cell_type": "code",
      "execution_count": null,
      "id": "ddfda026-0cd2-4809-b1e0-baec776b5f33",
      "metadata": {
        "id": "ddfda026-0cd2-4809-b1e0-baec776b5f33",
        "outputId": "b995e906-3379-48e8-e061-e9196daa273c"
      },
      "outputs": [
        {
          "data": {
            "text/plain": [
              "0.7958119795003202"
            ]
          },
          "execution_count": 88,
          "metadata": {},
          "output_type": "execute_result"
        }
      ],
      "source": [
        "rf1_crossval_test = cross_val_score(estimator = rf1, X = X_test, y = y_test, cv = 10)\n",
        "\n",
        "rf1_crossval_test.mean()"
      ]
    },
    {
      "cell_type": "code",
      "execution_count": null,
      "id": "41ca8d59-8100-444d-85aa-c579ce5853f7",
      "metadata": {
        "id": "41ca8d59-8100-444d-85aa-c579ce5853f7"
      },
      "outputs": [],
      "source": [
        "rf1_crossval_y_pred = rf1.predict(X_test)"
      ]
    },
    {
      "cell_type": "code",
      "execution_count": null,
      "id": "4fb09662-6666-4a98-973c-1699a98ee5bc",
      "metadata": {
        "id": "4fb09662-6666-4a98-973c-1699a98ee5bc",
        "outputId": "977dd267-9d35-4d6f-d25c-23d6ff49c8e7"
      },
      "outputs": [
        {
          "name": "stdout",
          "output_type": "stream",
          "text": [
            "Accuracy score is 0.7984773846842812\n",
            "Precision score is 0.779185520361991\n",
            "Recall score is 0.8069353327085286\n",
            "F1 score is 0.7928176795580111\n",
            "Confusion matrix score is \n",
            "[[922 244]\n",
            " [206 861]]\n"
          ]
        }
      ],
      "source": [
        "# Print the metrics for rf1 model\n",
        "\n",
        "rf1_crossval_accuracy = accuracy_score(y_test, rf1_crossval_y_pred)\n",
        "rf1_crossval_precision = precision_score(y_test, rf1_crossval_y_pred)\n",
        "rf1_crossval_recall = recall_score(y_test, rf1_crossval_y_pred)\n",
        "rf1_crossval_f1 = f1_score(y_test, rf1_crossval_y_pred)\n",
        "rf1_crossval_conf_matrix = confusion_matrix(y_test, rf1_crossval_y_pred)\n",
        "\n",
        "\n",
        "print(\"Accuracy score is {}\".format(rf1_crossval_accuracy))\n",
        "print(\"Precision score is {}\".format(rf1_crossval_precision))\n",
        "print(\"Recall score is {}\".format(rf1_crossval_recall))\n",
        "print(\"F1 score is {}\".format(rf1_crossval_f1))\n",
        "print(\"Confusion matrix score is \")\n",
        "print(\"{}\".format(rf1_crossval_conf_matrix))"
      ]
    },
    {
      "cell_type": "code",
      "execution_count": null,
      "id": "419a14e2-2fac-4c62-8599-08382b148253",
      "metadata": {
        "id": "419a14e2-2fac-4c62-8599-08382b148253"
      },
      "outputs": [],
      "source": []
    }
  ],
  "metadata": {
    "kernelspec": {
      "display_name": "Python 3 (ipykernel)",
      "language": "python",
      "name": "python3"
    },
    "language_info": {
      "codemirror_mode": {
        "name": "ipython",
        "version": 3
      },
      "file_extension": ".py",
      "mimetype": "text/x-python",
      "name": "python",
      "nbconvert_exporter": "python",
      "pygments_lexer": "ipython3",
      "version": "3.11.3"
    },
    "colab": {
      "provenance": [],
      "include_colab_link": true
    }
  },
  "nbformat": 4,
  "nbformat_minor": 5
}